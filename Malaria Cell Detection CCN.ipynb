{
 "cells": [
  {
   "cell_type": "code",
   "execution_count": 71,
   "metadata": {},
   "outputs": [],
   "source": [
    "import os\n",
    "os.environ['KMP_DUPLICATE_LIB_OK']='True'"
   ]
  },
  {
   "cell_type": "code",
   "execution_count": 72,
   "metadata": {},
   "outputs": [],
   "source": [
    "data_dir = '/Users/haniyacoub/Desktop/Tensor/04-CNNs/cell_images'"
   ]
  },
  {
   "cell_type": "code",
   "execution_count": 73,
   "metadata": {},
   "outputs": [
    {
     "data": {
      "text/plain": [
       "['test', 'train']"
      ]
     },
     "execution_count": 73,
     "metadata": {},
     "output_type": "execute_result"
    }
   ],
   "source": [
    "os.listdir(data_dir)"
   ]
  },
  {
   "cell_type": "code",
   "execution_count": 74,
   "metadata": {},
   "outputs": [],
   "source": [
    "import pandas as pd\n",
    "import numpy as np\n",
    "import matplotlib.pyplot as plt\n",
    "import seaborn as sns\n",
    "\n",
    "# might be needed depending on your version of Jupyter\n",
    "%matplotlib inline"
   ]
  },
  {
   "cell_type": "code",
   "execution_count": 75,
   "metadata": {},
   "outputs": [],
   "source": [
    "from matplotlib.image import imread"
   ]
  },
  {
   "cell_type": "code",
   "execution_count": 76,
   "metadata": {},
   "outputs": [],
   "source": [
    "test_path = data_dir +'/test/'\n",
    "\n",
    "train_path = data_dir +'/train/'"
   ]
  },
  {
   "cell_type": "code",
   "execution_count": 77,
   "metadata": {},
   "outputs": [
    {
     "data": {
      "text/plain": [
       "'/Users/haniyacoub/Desktop/Tensor/04-CNNs/cell_images/train/'"
      ]
     },
     "execution_count": 77,
     "metadata": {},
     "output_type": "execute_result"
    }
   ],
   "source": [
    "train_path"
   ]
  },
  {
   "cell_type": "code",
   "execution_count": 78,
   "metadata": {},
   "outputs": [
    {
     "data": {
      "text/plain": [
       "['parasitized', 'uninfected']"
      ]
     },
     "execution_count": 78,
     "metadata": {},
     "output_type": "execute_result"
    }
   ],
   "source": [
    "os.listdir(train_path)"
   ]
  },
  {
   "cell_type": "code",
   "execution_count": 79,
   "metadata": {},
   "outputs": [
    {
     "data": {
      "text/plain": [
       "['parasitized', 'uninfected']"
      ]
     },
     "execution_count": 79,
     "metadata": {},
     "output_type": "execute_result"
    }
   ],
   "source": [
    "os.listdir(test_path)"
   ]
  },
  {
   "cell_type": "code",
   "execution_count": 80,
   "metadata": {},
   "outputs": [],
   "source": [
    "#Malaria Data set\n",
    "#images of cells of which they are infected with malaria or not\n",
    "#build a model that based on the image of a cell to see if a cell\n",
    "#is infected or not"
   ]
  },
  {
   "cell_type": "code",
   "execution_count": 81,
   "metadata": {},
   "outputs": [
    {
     "data": {
      "text/plain": [
       "'C189P150ThinF_IMG_20151203_142224_cell_84.png'"
      ]
     },
     "execution_count": 81,
     "metadata": {},
     "output_type": "execute_result"
    }
   ],
   "source": [
    "os.listdir(train_path + 'parasitized')[0]\n",
    "#one picture"
   ]
  },
  {
   "cell_type": "code",
   "execution_count": 82,
   "metadata": {},
   "outputs": [],
   "source": [
    "para_cell = train_path + 'parasitized//'+'C189P150ThinF_IMG_20151203_142224_cell_84.png'\n"
   ]
  },
  {
   "cell_type": "code",
   "execution_count": 83,
   "metadata": {},
   "outputs": [
    {
     "data": {
      "text/plain": [
       "array([[[0., 0., 0.],\n",
       "        [0., 0., 0.],\n",
       "        [0., 0., 0.],\n",
       "        ...,\n",
       "        [0., 0., 0.],\n",
       "        [0., 0., 0.],\n",
       "        [0., 0., 0.]],\n",
       "\n",
       "       [[0., 0., 0.],\n",
       "        [0., 0., 0.],\n",
       "        [0., 0., 0.],\n",
       "        ...,\n",
       "        [0., 0., 0.],\n",
       "        [0., 0., 0.],\n",
       "        [0., 0., 0.]],\n",
       "\n",
       "       [[0., 0., 0.],\n",
       "        [0., 0., 0.],\n",
       "        [0., 0., 0.],\n",
       "        ...,\n",
       "        [0., 0., 0.],\n",
       "        [0., 0., 0.],\n",
       "        [0., 0., 0.]],\n",
       "\n",
       "       ...,\n",
       "\n",
       "       [[0., 0., 0.],\n",
       "        [0., 0., 0.],\n",
       "        [0., 0., 0.],\n",
       "        ...,\n",
       "        [0., 0., 0.],\n",
       "        [0., 0., 0.],\n",
       "        [0., 0., 0.]],\n",
       "\n",
       "       [[0., 0., 0.],\n",
       "        [0., 0., 0.],\n",
       "        [0., 0., 0.],\n",
       "        ...,\n",
       "        [0., 0., 0.],\n",
       "        [0., 0., 0.],\n",
       "        [0., 0., 0.]],\n",
       "\n",
       "       [[0., 0., 0.],\n",
       "        [0., 0., 0.],\n",
       "        [0., 0., 0.],\n",
       "        ...,\n",
       "        [0., 0., 0.],\n",
       "        [0., 0., 0.],\n",
       "        [0., 0., 0.]]], dtype=float32)"
      ]
     },
     "execution_count": 83,
     "metadata": {},
     "output_type": "execute_result"
    }
   ],
   "source": [
    "imread(para_cell)"
   ]
  },
  {
   "cell_type": "code",
   "execution_count": 84,
   "metadata": {},
   "outputs": [
    {
     "data": {
      "text/plain": [
       "(121, 118, 3)"
      ]
     },
     "execution_count": 84,
     "metadata": {},
     "output_type": "execute_result"
    }
   ],
   "source": [
    "imread(para_cell).shape"
   ]
  },
  {
   "cell_type": "code",
   "execution_count": 85,
   "metadata": {},
   "outputs": [
    {
     "data": {
      "text/plain": [
       "<matplotlib.image.AxesImage at 0x1a55b74fd0>"
      ]
     },
     "execution_count": 85,
     "metadata": {},
     "output_type": "execute_result"
    },
    {
     "data": {
      "image/png": "[encoded data removed]",
      "text/plain": [
       "<Figure size 432x288 with 1 Axes>"
      ]
     },
     "metadata": {
      "needs_background": "light"
     },
     "output_type": "display_data"
    }
   ],
   "source": [
    "plt.imshow(imread(para_cell))"
   ]
  },
  {
   "cell_type": "code",
   "execution_count": 86,
   "metadata": {},
   "outputs": [
    {
     "data": {
      "text/plain": [
       "['C13NThinF_IMG_20150614_131318_cell_179.png',\n",
       " 'C205ThinF_IMG_20151106_152003_cell_21.png',\n",
       " 'C230ThinF_IMG_20151112_150647_cell_1.png',\n",
       " 'C134P95ThinF_IMG_20151005_121834_cell_65.png',\n",
       " 'C141P102ThinF_IMG_20151005_214836_cell_132.png',\n",
       " 'C182P143NThinF_IMG_20151201_171950_cell_93.png',\n",
       " 'C181P142ThinF_IMG_20151127_160616_cell_54.png',\n",
       " 'C142P103ThinF_IMG_20151005_223257_cell_18.png',\n",
       " 'C80P41ThinF_IMG_20150817_110608_cell_62.png',\n",
       " 'C144P105ThinF_IMG_20151015_163142_cell_66.png',\n",
       " 'C12NThinF_IMG_20150614_124212_cell_187.png',\n",
       " 'C223ThinF_IMG_20151112_104708_cell_190.png',\n",
       " 'C143P104ThinF_IMG_20151005_225746_cell_133.png',\n",
       " 'C84P45ThinF_IMG_20150818_101056_cell_87.png',\n",
       " 'C222ThinF_IMG_20151115_150925_cell_127.png',\n",
       " 'C1_thinF_IMG_20150604_104919_cell_82.png',\n",
       " 'C150P111ThinF_IMG_20151115_115950_cell_53.png',\n",
       " 'C170P131ThinF_IMG_20151119_120233_cell_183.png',\n",
       " 'C13NThinF_IMG_20150614_131529_cell_168.png',\n",
       " 'C1_thinF_IMG_20150604_104919_cell_96.png',\n",
       " 'C150P111ThinF_IMG_20151115_115950_cell_47.png',\n",
       " 'C141P102ThinF_IMG_20151005_213930_cell_61.png',\n",
       " 'C143P104ThinF_IMG_20151005_225746_cell_127.png',\n",
       " 'C160P121ThinF_IMG_20151116_093109_cell_29.png',\n",
       " 'C82P43ThinF_IMG_20150817_124010_cell_39.png',\n",
       " 'C78P39ThinF_IMG_20150606_103630_cell_3.png',\n",
       " 'C239ThinF_IMG_20151127_113253_cell_25.png',\n",
       " 'C58P19thinF_IMG_20150802_122338_cell_86.png',\n",
       " 'C98P59ThinF_IMG_20150917_153311_cell_73.png',\n",
       " 'C109P70ThinF_IMG_20150930_102944_cell_138.png',\n",
       " 'C54P15thinF_IMG_20150728_112938_cell_43.png',\n",
       " 'C91P52ThinF_IMG_20150821_123116_cell_74.png',\n",
       " 'C208ThinF_IMG_20151029_155411_cell_133.png',\n",
       " 'C61P22N_ThinF_IMG_20150818_112704_cell_185.png',\n",
       " 'C170P131ThinF_IMG_20151119_120150_cell_85.png',\n",
       " 'C159P120ThinF_IMG_20151115_191301_cell_88.png',\n",
       " 'C206ThinF_IMG_20151029_140538_cell_66.png',\n",
       " 'C175P136NThinF_IMG_20151127_142326_cell_53.png',\n",
       " 'C78P39ThinF_IMG_20150606_104426_cell_80.png',\n",
       " 'C119P80ThinF_IMG_20151002_123043_cell_34.png',\n",
       " 'C47P8thin_Original_Motic_IMG_20150714_093947_cell_146.png',\n",
       " 'C134P95ThinF_IMG_20151005_122331_cell_94.png',\n",
       " 'C167P128ReThinF_IMG_20151201_110011_cell_143.png',\n",
       " 'C51AP12thinF_IMG_20150724_161126_cell_1.png',\n",
       " 'C164P125ThinF_IMG_20151116_113954_cell_58.png',\n",
       " 'C58P19thinF_IMG_20150802_122215_cell_129.png',\n",
       " 'C134P95ThinF_IMG_20151005_121656_cell_25.png',\n",
       " 'C72P33_ThinF_IMG_20150815_104307_cell_182.png',\n",
       " 'C146P107ThinF_IMG_20151018_140044_cell_71.png',\n",
       " 'C182P143NThinF_IMG_20151201_171836_cell_122.png',\n",
       " 'C96P57ThinF_IMG_20150824_111748_cell_165.png',\n",
       " 'C116P77ThinF_IMG_20150930_171558_cell_73.png',\n",
       " 'C201ThinF_IMG_20150930_143544_cell_192.png',\n",
       " 'C86P47ThinF_IMG_20150820_125057_cell_142.png',\n",
       " 'C189P150ThinF_IMG_20151203_141615_cell_56.png',\n",
       " 'C72P33_ThinF_IMG_20150815_104307_cell_169.png',\n",
       " 'C217ThinF_IMG_20151106_141649_cell_117.png',\n",
       " 'C218ThinF_IMG_20151106_144228_cell_109.png',\n",
       " 'C81P42ThinF_IMG_20150817_115942_cell_120.png',\n",
       " 'C93P54ThinF_IMG_20150821_164024_cell_158.png',\n",
       " 'C4thin_original_IMG_20150608_165908_cell_244.png',\n",
       " 'C171P132ThinF_IMG_20151119_152913_cell_83.png',\n",
       " 'C162P123ThinF_IMG_20151116_102655_cell_138.png',\n",
       " 'C217ThinF_IMG_20151106_141500_cell_133.png',\n",
       " 'C175P136NThinF_IMG_20151127_141253_cell_140.png',\n",
       " 'C166P127ThinF_IMG_20151117_193931_cell_80.png',\n",
       " 'C189P150ThinF_IMG_20151203_140902_cell_25.png',\n",
       " 'C45P6ThinF_IMG_20151130_160241_cell_78.png',\n",
       " 'C127P88ThinF_IMG_20151004_112004_cell_1.png',\n",
       " 'C214ThinF_IMG_20151106_114611_cell_64.png',\n",
       " 'C81P42ThinF_IMG_20150817_121113_cell_34.png',\n",
       " 'C163P124ThinF_IMG_20151116_111925_cell_8.png',\n",
       " 'C53P14thinF_IMG_20150726_115046_cell_73.png',\n",
       " 'C55P16thinF_IMG_20150728_121350_cell_173.png',\n",
       " 'C13NThinF_IMG_20150614_131318_cell_80.png',\n",
       " 'C123P84ThinF_IMG_20151002_152144_cell_14.png',\n",
       " 'C176P137NThinF_IMG_20151201_114035_cell_110.png',\n",
       " 'C76P37ThinF_IMG_20150815_165356_cell_157.png',\n",
       " 'C84P45ThinF_IMG_20150818_101550_cell_7.png',\n",
       " 'C175P136NThinF_IMG_20151127_142326_cell_90.png',\n",
       " 'C161P122ThinF_IMG_20151116_101210_cell_28.png',\n",
       " 'C127P88ThinF_IMG_20151004_111220_cell_111.png',\n",
       " 'C224ThinF_IMG_20151112_112834_cell_109.png',\n",
       " 'C167P128ReThinF_IMG_20151201_110011_cell_180.png',\n",
       " 'C170P131ThinF_IMG_20151119_120233_cell_168.png',\n",
       " 'C238NThinF_IMG_20151207_114605_cell_163.png',\n",
       " 'C53P14thinF_IMG_20150726_115457_cell_5.png',\n",
       " 'C161P122ThinF_IMG_20151116_100724_cell_83.png',\n",
       " 'C220ThinF_IMG_20151106_154510_cell_90.png',\n",
       " 'C45P6ThinF_IMG_20151130_160409_cell_17.png',\n",
       " 'C74P35_ThinF_IMG_20150815_120712_cell_108.png',\n",
       " 'C213ThinF_IMG_20151106_112853_cell_170.png',\n",
       " 'C176P137NThinF_IMG_20151201_114035_cell_15.png',\n",
       " 'C223ThinF_IMG_20151112_104240_cell_163.png',\n",
       " 'C181P142ThinF_IMG_20151127_160539_cell_17.png',\n",
       " 'C205ThinF_IMG_20151106_151514_cell_166.png',\n",
       " 'C230ThinF_IMG_20151112_150730_cell_67.png',\n",
       " 'C4thin_original_IMG_20150608_170016_cell_104.png',\n",
       " 'C240ThinF_IMG_20151127_115223_cell_72.png',\n",
       " 'C38P3thinF_original_IMG_20150621_112116_cell_1.png',\n",
       " 'C2NThinF_IMG_20150604_115238_cell_205.png',\n",
       " 'C183P144NThinF_IMG_20151201_222119_cell_84.png',\n",
       " 'C116P77ThinF_IMG_20150930_171219_cell_39.png',\n",
       " 'C165P126ThinF_IMG_20151117_171006_cell_52.png',\n",
       " 'C219ThinF_IMG_20151106_145927_cell_173.png',\n",
       " 'C137P98ThinF_IMG_20151005_160918_cell_47.png',\n",
       " 'C102P63ThinF_IMG_20150918_162051_cell_19.png',\n",
       " 'C158P119ThinF_IMG_20151115_183157_cell_12.png',\n",
       " 'C229ThinF_IMG_20151112_144534_cell_45.png',\n",
       " 'C78P39ThinF_IMG_20150606_104106_cell_94.png',\n",
       " 'C177P138NThinF_IMG_20151201_141604_cell_152.png',\n",
       " 'C125P86ThinF_IMG_20151004_101158_cell_65.png',\n",
       " 'C76P37ThinF_IMG_20150815_171454_cell_232.png',\n",
       " 'C97P58ThinF_IMG_20150917_151551_cell_105.png',\n",
       " 'C226ThinF_IMG_20151112_131731_cell_80.png',\n",
       " 'C96P57ThinF_IMG_20150824_111748_cell_92.png',\n",
       " 'C96P57ThinF_IMG_20150824_105213_cell_164.png',\n",
       " 'C82P43ThinF_IMG_20150817_124418_cell_82.png',\n",
       " 'C229ThinF_IMG_20151112_144652_cell_25.png',\n",
       " 'C189P150ThinF_IMG_20151203_141455_cell_69.png',\n",
       " 'C238NThinF_IMG_20151207_114345_cell_59.png',\n",
       " 'C106P67ThinF_IMG_20150924_103636_cell_162.png',\n",
       " 'C54P15thinF_IMG_20150728_105949_cell_126.png',\n",
       " 'C115P76ThinF_IMG_20150930_163156_cell_80.png',\n",
       " 'C185P146ThinF_IMG_20151203_110817_cell_160.png',\n",
       " 'C154P115ThinF_IMG_20151115_141621_cell_114.png',\n",
       " 'C131P92ThinF_IMG_20151004_151126_cell_99.png',\n",
       " 'C76P37ThinF_IMG_20150815_171454_cell_226.png',\n",
       " 'C235ThinF_IMG_20151112_164625_cell_68.png',\n",
       " 'C74P35_ThinF_IMG_20150815_114819_cell_85.png',\n",
       " 'C68P29N_ThinF_IMG_20150819_133350_cell_21.png',\n",
       " 'C142P103ThinF_IMG_20151005_222255_cell_29.png',\n",
       " 'C125P86ThinF_IMG_20151004_101158_cell_71.png',\n",
       " 'C219ThinF_IMG_20151106_150135_cell_135.png',\n",
       " 'C232ThinF_IMG_20151112_154424_cell_60.png',\n",
       " 'C64P25N_ThinF_IMG_20150818_152613_cell_78.png',\n",
       " 'C231ThinF_IMG_20151112_152234_cell_207.png',\n",
       " 'C147P108ThinF_IMG_20151115_101156_cell_147.png',\n",
       " 'C238NThinF_IMG_20151207_114038_cell_106.png',\n",
       " 'C187P148NThinF_IMG_20151203_153410_cell_114.png',\n",
       " 'C56P17thinF_IMG_20150728_160438_cell_75.png',\n",
       " 'C162P123ThinF_IMG_20151116_104451_cell_137.png',\n",
       " 'C202ThinF_IMG_20151015_152333_cell_75.png',\n",
       " 'C80P41ThinF_IMG_20150817_111544_cell_92.png',\n",
       " 'C132P93ThinF_IMG_20151004_152257_cell_46.png',\n",
       " 'C141P102ThinF_IMG_20151005_214208_cell_91.png',\n",
       " 'C215ThinF_IMG_20151106_133116_cell_174.png',\n",
       " 'C220ThinF_IMG_20151106_154339_cell_96.png',\n",
       " 'C125P86ThinF_IMG_20151004_102619_cell_59.png',\n",
       " 'C67P28N_ThinF_IMG_20150819_133000_cell_79.png',\n",
       " 'C112P73ThinF_IMG_20150930_131900_cell_46.png',\n",
       " 'C152P113ThinF_IMG_20151115_123837_cell_144.png',\n",
       " 'C60P21thinF_IMG_20150804_113602_cell_47.png',\n",
       " 'C210ThinF_IMG_20151029_162834_cell_56.png',\n",
       " 'C87P48ThinF_IMG_20150820_141913_cell_172.png',\n",
       " 'C161P122ThinF_IMG_20151116_101626_cell_57.png',\n",
       " 'C226ThinF_IMG_20151112_131731_cell_43.png',\n",
       " 'C235ThinF_IMG_20151112_164625_cell_159.png',\n",
       " 'C219ThinF_IMG_20151106_150135_cell_109.png',\n",
       " 'C78P39ThinF_IMG_20150606_104106_cell_57.png',\n",
       " 'C227ThinF_IMG_20151112_135422_cell_54.png',\n",
       " 'C12NThinF_IMG_20150614_125741_cell_76.png',\n",
       " 'C62P23N_ThinF_IMG_20150818_133307_cell_6.png',\n",
       " 'C223ThinF_IMG_20151112_104118_cell_210.png',\n",
       " 'C77P38ThinF_IMG_20150602_111510_cell_109.png',\n",
       " 'C130P91ThinF_IMG_20151004_135449_cell_11.png',\n",
       " 'C125P86ThinF_IMG_20151004_102619_cell_71.png',\n",
       " 'C134P95ThinF_IMG_20151005_122552_cell_15.png',\n",
       " 'C121P82ThinF_IMG_20151002_133158_cell_67.png',\n",
       " 'C75P36_ThinF_IMG_20150815_163742_cell_42.png',\n",
       " 'C140P101ThinF_IMG_20151005_205922_cell_81.png',\n",
       " 'C216ThinF_IMG_20151106_135228_cell_120.png',\n",
       " 'C80P41ThinF_IMG_20150817_111246_cell_9.png',\n",
       " 'C147P108ThinF_IMG_20151115_092605_cell_180.png',\n",
       " 'C61P22N_ThinF_IMG_20150818_112433_cell_135.png',\n",
       " 'C92P53ThinF_IMG_20150821_151646_cell_20.png',\n",
       " 'C138P99ThinF_IMG_20151005_171116_cell_68.png',\n",
       " 'C152P113ThinF_IMG_20151115_124032_cell_90.png',\n",
       " 'C82P43ThinF_IMG_20150817_124418_cell_55.png',\n",
       " 'C214ThinF_IMG_20151106_114526_cell_236.png',\n",
       " 'C129P90ThinF_IMG_20151004_133538_cell_9.png',\n",
       " 'C72P33_ThinF_IMG_20150815_104307_cell_60.png',\n",
       " 'C164P125ThinF_IMG_20151116_113550_cell_141.png',\n",
       " 'C48P9thinF_IMG_20150721_160406_cell_35.png',\n",
       " 'C12NThinF_IMG_20150614_125741_cell_62.png',\n",
       " 'C62P23N_ThinF_IMG_20150818_132918_cell_136.png',\n",
       " 'C228ThinF_IMG_20151112_142900_cell_247.png',\n",
       " 'C178P139NThinF_IMG_20151201_154337_cell_91.png',\n",
       " 'C138P99ThinF_IMG_20151005_173453_cell_112.png',\n",
       " 'C159P120ThinF_IMG_20151115_190002_cell_11.png',\n",
       " 'C223ThinF_IMG_20151112_104410_cell_209.png',\n",
       " 'C178P139NThinF_IMG_20151201_154337_cell_120.png',\n",
       " 'C120P81ThinF_IMG_20151002_131120_cell_110.png',\n",
       " 'C139P100ThinF_IMG_20151005_182410_cell_87.png',\n",
       " 'C2NThinF_IMG_20150604_114730_cell_13.png',\n",
       " 'C66P27N_ThinF_IMG_20150818_164754_cell_97.png',\n",
       " 'C154P115ThinF_IMG_20151115_141507_cell_191.png',\n",
       " 'C159P120ThinF_IMG_20151115_190421_cell_87.png',\n",
       " 'C208ThinF_IMG_20151029_160108_cell_21.png',\n",
       " 'C208ThinF_IMG_20151029_155827_cell_31.png',\n",
       " 'C167P128ReThinF_IMG_20151201_105707_cell_81.png',\n",
       " 'C68P29N_ThinF_IMG_20150819_134112_cell_14.png',\n",
       " 'C84P45ThinF_IMG_20150818_101146_cell_59.png',\n",
       " 'C177P138NThinF_IMG_20151201_142942_cell_24.png',\n",
       " 'C105P66ThinF_IMG_20150924_095913_cell_84.png',\n",
       " 'C159P120ThinF_IMG_20151115_190421_cell_93.png',\n",
       " 'C141P102ThinF_IMG_20151005_215711_cell_49.png',\n",
       " 'C154P115ThinF_IMG_20151115_141336_cell_180.png',\n",
       " 'C116P77ThinF_IMG_20150930_171954_cell_9.png',\n",
       " 'C56P17thinF_IMG_20150728_160537_cell_32.png',\n",
       " 'C119P80ThinF_IMG_20151002_123911_cell_44.png',\n",
       " 'C7NthinF_IMG_20150611_105043_cell_59.png',\n",
       " 'C82P43ThinF_IMG_20150817_123500_cell_183.png',\n",
       " 'C183P144NThinF_IMG_20151201_224458_cell_15.png',\n",
       " 'C139P100ThinF_IMG_20151005_182527_cell_139.png',\n",
       " 'C37BP2_thinF_IMG_20150620_132847a_cell_75.png',\n",
       " 'C161P122ThinF_IMG_20151116_101126_cell_47.png',\n",
       " 'C112P73ThinF_IMG_20150930_131753_cell_60.png',\n",
       " 'C98P59ThinF_IMG_20150917_154235_cell_157.png',\n",
       " 'C88P49ThinF_IMG_20150820_152521_cell_216.png',\n",
       " 'C77P38ThinF_IMG_20150602_111510_cell_99.png',\n",
       " 'C88P49ThinF_IMG_20150820_150724_cell_129.png',\n",
       " 'C5NThinF_IMG_20150609_122227_cell_43.png',\n",
       " 'C71P32_ThinF_IMG_20150813_163120_cell_124.png',\n",
       " 'C80P41ThinF_IMG_20150817_110348_cell_59.png',\n",
       " 'C182P143NThinF_IMG_20151201_171905_cell_117.png',\n",
       " 'C177P138NThinF_IMG_20151201_142846_cell_123.png',\n",
       " 'C161P122ThinF_IMG_20151116_100840_cell_44.png',\n",
       " 'C47P8thinOriginalOlympusCX21_IMG_20150717_174750_cell_141.png',\n",
       " 'C138P99ThinF_IMG_20151005_172849_cell_12.png',\n",
       " 'C218ThinF_IMG_20151106_143940_cell_17.png',\n",
       " 'C98P59ThinF_IMG_20150917_154235_cell_143.png',\n",
       " 'C121P82ThinF_IMG_20151002_133001_cell_59.png',\n",
       " 'C138P99ThinF_IMG_20151005_171940_cell_96.png',\n",
       " 'C143P104ThinF_IMG_20151005_225528_cell_118.png',\n",
       " 'C213ThinF_IMG_20151106_112603_cell_227.png',\n",
       " 'C104P65ThinF_IMG_20150918_170850_cell_83.png',\n",
       " 'C6NThinF_IMG_20150609_122547_cell_195.png',\n",
       " 'C185P146ThinF_IMG_20151203_110817_cell_24.png',\n",
       " 'C121P82ThinF_IMG_20151002_133540_cell_30.png',\n",
       " 'C90P51ThinF_IMG_20150821_115056_cell_12.png',\n",
       " 'C230ThinF_IMG_20151112_150753_cell_116.png',\n",
       " 'C76P37ThinF_IMG_20150815_171454_cell_2.png',\n",
       " 'C218ThinF_IMG_20151106_144001_cell_38.png',\n",
       " 'C12NThinF_IMG_20150614_124244_cell_50.png',\n",
       " 'C220ThinF_IMG_20151106_153947_cell_16.png',\n",
       " 'C47P8thin_Original_Motic_IMG_20150714_093600_cell_151.png',\n",
       " 'C219ThinF_IMG_20151106_150135_cell_42.png',\n",
       " 'C63P24N_ThinF_IMG_20150818_142948_cell_135.png',\n",
       " 'C104P65ThinF_IMG_20150918_170850_cell_68.png',\n",
       " 'C164P125ThinF_IMG_20151116_120135_cell_46.png',\n",
       " 'C219ThinF_IMG_20151106_145856_cell_2.png',\n",
       " 'C150P111ThinF_IMG_20151115_115805_cell_172.png',\n",
       " 'C138P99ThinF_IMG_20151005_171332_cell_13.png',\n",
       " 'C116P77ThinF_IMG_20150930_171635_cell_31.png',\n",
       " 'C46P7ThinF_IMG_20151130_210309_cell_18.png',\n",
       " 'C65P26N_ThinF_IMG_20150818_154436_cell_81.png',\n",
       " 'C105P66ThinF_IMG_20150924_095633_cell_104.png',\n",
       " 'C227ThinF_IMG_20151112_135308_cell_3.png',\n",
       " 'C53P14thinF_IMG_20150726_120600_cell_104.png',\n",
       " 'C105P66ThinF_IMG_20150924_095034_cell_1.png',\n",
       " 'C103P64ThinF_IMG_20150918_165510_cell_65.png',\n",
       " 'C59P20thinF_IMG_20150803_112733_cell_83.png',\n",
       " 'C68P29N_ThinF_IMG_20150819_134326_cell_104.png',\n",
       " 'C51AP12thinF_IMG_20150724_155947_cell_28.png',\n",
       " 'C4thin_original_IMG_20150608_165908_cell_132.png',\n",
       " 'C185P146ThinF_IMG_20151203_110448_cell_27.png',\n",
       " 'C114P75ThinF_IMG_20150930_150833_cell_26.png',\n",
       " 'C149P110ThinF_IMG_20151115_115154_cell_184.png',\n",
       " 'C157P118ThinF_IMG_20151115_163611_cell_57.png',\n",
       " 'C162P123ThinF_IMG_20151116_104114_cell_55.png',\n",
       " 'C63P24N_ThinF_IMG_20150818_142948_cell_109.png',\n",
       " 'C79P40ThinF_IMG_20150817_104316_cell_58.png',\n",
       " 'C57P18thinF_IMG_20150729_110305_cell_155.png',\n",
       " 'C1_thinF_IMG_20150604_104919_cell_240.png',\n",
       " 'C75P36_ThinF_IMG_20150815_163707_cell_67.png',\n",
       " 'C53P14thinF_IMG_20150726_114918_cell_15.png',\n",
       " 'C6NThinF_IMG_20150609_122547_cell_82.png',\n",
       " 'C86P47ThinF_IMG_20150820_125057_cell_208.png',\n",
       " 'C124P85ThinF_IMG_20151002_155223_cell_156.png',\n",
       " 'C164P125ThinF_IMG_20151116_114404_cell_37.png',\n",
       " 'C103P64ThinF_IMG_20150918_165016_cell_34.png',\n",
       " 'C221ThinF_IMG_20151106_160022_cell_201.png',\n",
       " 'C165P126ThinF_IMG_20151117_171646_cell_164.png',\n",
       " 'C164P125ThinF_IMG_20151116_115112_cell_71.png',\n",
       " 'C231ThinF_IMG_20151112_153041_cell_54.png',\n",
       " 'C232ThinF_IMG_20151112_154251_cell_276.png',\n",
       " 'C52P13thinF_IMG_20150725_124830_cell_115.png',\n",
       " 'C64P25N_ThinF_IMG_20150818_152455_cell_25.png',\n",
       " 'C206ThinF_IMG_20151029_140511_cell_81.png',\n",
       " 'C140P101ThinF_IMG_20151005_205406_cell_51.png',\n",
       " 'C163P124ThinF_IMG_20151116_111742_cell_49.png',\n",
       " 'C139P100ThinF_IMG_20151005_182822_cell_146.png',\n",
       " 'C46P7ThinF_IMG_20151130_205719_cell_22.png',\n",
       " 'C175P136NThinF_IMG_20151127_142326_cell_136.png',\n",
       " 'C126P87ThinF_IMG_20151004_104813_cell_110.png',\n",
       " 'C102P63ThinF_IMG_20150918_162051_cell_130.png',\n",
       " 'C233ThinF_IMG_20151112_160129_cell_233.png',\n",
       " 'C105P66ThinF_IMG_20150924_094800_cell_39.png',\n",
       " 'C113P74ThinF_IMG_20150930_140646_cell_122.png',\n",
       " 'C240ThinF_IMG_20151127_115223_cell_182.png',\n",
       " 'C209ThinF_IMG_20151029_160857_cell_219.png',\n",
       " 'C113P74ThinF_IMG_20150930_140646_cell_52.png',\n",
       " 'C111P72ThinF_IMG_20150930_113210_cell_160.png',\n",
       " 'C33P1thinF_IMG_20150619_121102a_cell_62.png',\n",
       " 'C65P26N_ThinF_IMG_20150818_154714_cell_69.png',\n",
       " 'C142P103ThinF_IMG_20151005_222255_cell_168.png',\n",
       " 'C116P77ThinF_IMG_20150930_171954_cell_18.png',\n",
       " 'C78P39ThinF_IMG_20150606_104936_cell_147.png',\n",
       " 'C69P30N_ThinF_IMG_20150819_135421_cell_127.png',\n",
       " 'C13NThinF_IMG_20150614_131457_cell_113.png',\n",
       " 'C112P73ThinF_IMG_20150930_131605_cell_111.png',\n",
       " 'C60P21thinF_IMG_20150803_144003_cell_87.png',\n",
       " 'C185P146ThinF_IMG_20151203_110344_cell_19.png',\n",
       " 'C180P141NThinF_IMG_20151201_164714_cell_16.png',\n",
       " 'C104P65ThinF_IMG_20150918_172639_cell_93.png',\n",
       " 'C162P123ThinF_IMG_20151116_104114_cell_148.png',\n",
       " 'C126P87ThinF_IMG_20151004_104813_cell_104.png',\n",
       " 'C63P24N_ThinF_IMG_20150818_143757_cell_118.png',\n",
       " 'C73P34_ThinF_IMG_20150815_111114_cell_144.png',\n",
       " 'C229ThinF_IMG_20151112_144652_cell_191.png',\n",
       " 'C201ThinF_IMG_20150930_143129_cell_99.png',\n",
       " 'C42P5thin_original_IMG_20150623_134426_cell_152.png',\n",
       " 'C145P106ThinF_IMG_20151016_154756_cell_31.png',\n",
       " 'C208ThinF_IMG_20151029_155436_cell_35.png',\n",
       " 'C147P108ThinF_IMG_20151115_092605_cell_221.png',\n",
       " 'C84P45ThinF_IMG_20150818_102507_cell_60.png',\n",
       " 'C232ThinF_IMG_20151112_154719_cell_246.png',\n",
       " 'C39P4thinF_original_IMG_20150622_105803_cell_16.png',\n",
       " 'C106P67ThinF_IMG_20150924_103245_cell_127.png',\n",
       " 'C65P26N_ThinF_IMG_20150818_154714_cell_41.png',\n",
       " 'C203ThinF_IMG_20151029_102123_cell_194.png',\n",
       " 'C180P141NThinF_IMG_20151201_165528_cell_127.png',\n",
       " 'C201ThinF_IMG_20150930_143411_cell_30.png',\n",
       " 'C137P98ThinF_IMG_20151005_163901_cell_35.png',\n",
       " 'C187P148NThinF_IMG_20151203_152841_cell_119.png',\n",
       " 'C137P98ThinF_IMG_20151005_160122_cell_53.png',\n",
       " 'C102P63ThinF_IMG_20150918_162511_cell_36.png',\n",
       " 'C136P97ThinF_IMG_20151005_144727_cell_100.png',\n",
       " 'C206ThinF_IMG_20151029_140538_cell_194.png',\n",
       " 'C211ThinF_IMG_20151029_164218_cell_187.png',\n",
       " 'C98P59ThinF_IMG_20150917_154452_cell_199.png',\n",
       " 'C51AP12thinF_IMG_20150724_155046_cell_30.png',\n",
       " 'C179P140ThinF_IMG_20151127_153453_cell_128.png',\n",
       " 'C63P24N_ThinF_IMG_20150818_143319_cell_103.png',\n",
       " 'C104P65ThinF_IMG_20150918_172639_cell_44.png',\n",
       " 'C163P124ThinF_IMG_20151116_110921_cell_202.png',\n",
       " 'C98P59ThinF_IMG_20150917_154452_cell_33.png',\n",
       " 'C12NThinF_IMG_20150614_125741_cell_157.png',\n",
       " 'C100P61ThinF_IMG_20150918_144348_cell_125.png',\n",
       " 'C148P109ThinF_IMG_20151115_112855_cell_245.png',\n",
       " 'C121P82ThinF_IMG_20151002_133739_cell_38.png',\n",
       " 'Thumbs.db',\n",
       " 'C161P122ThinF_IMG_20151116_101315_cell_37.png',\n",
       " 'C52P13thinF_IMG_20150725_124830_cell_12.png',\n",
       " 'C204ThinF_IMG_20151029_112502_cell_166.png',\n",
       " 'C55P16thinF_IMG_20150728_123237_cell_161.png',\n",
       " 'C183P144NThinF_IMG_20151201_222917_cell_30.png',\n",
       " 'C47P8thin_Original_Motic_IMG_20150714_093715_cell_44.png',\n",
       " 'C186P147NThinF_IMG_20151203_150557_cell_67.png',\n",
       " 'C92P53ThinF_IMG_20150821_151722_cell_56.png',\n",
       " 'C52P13thinF_IMG_20150725_124606_cell_139.png',\n",
       " 'C130P91ThinF_IMG_20151004_141825_cell_122.png',\n",
       " 'C153P114ThinF_IMG_20151115_135911_cell_94.png',\n",
       " 'C100P61ThinF_IMG_20150918_144348_cell_131.png',\n",
       " 'C225ThinF_IMG_20151112_113836_cell_163.png',\n",
       " 'C131P92ThinF_IMG_20151004_151001_cell_110.png',\n",
       " 'C149P110ThinF_IMG_20151115_114729_cell_185.png',\n",
       " 'C55P16thinF_IMG_20150728_121350_cell_5.png',\n",
       " 'C124P85ThinF_IMG_20151002_155026_cell_117.png',\n",
       " 'C71P32_ThinF_IMG_20150813_162016_cell_82.png',\n",
       " 'C122P83ThinF_IMG_20151002_150207_cell_153.png',\n",
       " 'C6NThinF_IMG_20150609_121955_cell_54.png',\n",
       " 'C138P99ThinF_IMG_20151005_173453_cell_18.png',\n",
       " 'C64P25N_ThinF_IMG_20150818_152921_cell_39.png',\n",
       " 'C184P145ThinF_IMG_20151203_104153_cell_91.png',\n",
       " 'C84P45ThinF_IMG_20150818_101412_cell_32.png',\n",
       " 'C169P130ThinF_IMG_20151118_172913_cell_209.png',\n",
       " 'C83P44ThinF_IMG_20150817_133355_cell_82.png',\n",
       " 'C84P45ThinF_IMG_20150818_101412_cell_26.png',\n",
       " 'C122P83ThinF_IMG_20151002_144610_cell_14.png',\n",
       " 'C61P22N_ThinF_IMG_20150818_112252_cell_12.png',\n",
       " 'C184P145ThinF_IMG_20151203_103637_cell_39.png',\n",
       " 'C7NthinF_IMG_20150611_104824_cell_108.png',\n",
       " 'C71P32_ThinF_IMG_20150813_163655_cell_20.png',\n",
       " 'C201ThinF_IMG_20150930_143502_cell_221.png',\n",
       " 'C96P57ThinF_IMG_20150824_112132_cell_187.png',\n",
       " 'C100P61ThinF_IMG_20150918_144104_cell_25.png',\n",
       " 'C127P88ThinF_IMG_20151004_111755_cell_20.png',\n",
       " 'C158P119ThinF_IMG_20151115_181136_cell_21.png',\n",
       " 'C64P25N_ThinF_IMG_20150818_153401_cell_45.png',\n",
       " 'C209ThinF_IMG_20151029_160803_cell_197.png',\n",
       " 'C107P68ThinF_IMG_20150924_222233_cell_77.png',\n",
       " 'C50P11thinF_IMG_20150724_115749_cell_125.png',\n",
       " 'C228ThinF_IMG_20151112_142730_cell_244.png',\n",
       " 'C209ThinF_IMG_20151029_160803_cell_196.png',\n",
       " 'C201ThinF_IMG_20150930_143502_cell_220.png',\n",
       " 'C62P23N_ThinF_IMG_20150818_133527_cell_46.png',\n",
       " 'C221ThinF_IMG_20151106_160727_cell_152.png',\n",
       " 'C45P6ThinF_IMG_20151130_160409_cell_141.png',\n",
       " 'C77P38ThinF_IMG_20150602_143650_cell_111.png',\n",
       " 'C52P13thinF_IMG_20150725_130013_cell_121.png',\n",
       " 'C89P50ThinF_IMG_20150820_162504_cell_164.png',\n",
       " 'C201ThinF_IMG_20150930_143129_cell_67.png',\n",
       " 'C127P88ThinF_IMG_20151004_112004_cell_130.png',\n",
       " 'C155P116ThinF_IMG_20151115_142526_cell_131.png',\n",
       " 'C229ThinF_IMG_20151112_144613_cell_56.png',\n",
       " 'C154P115ThinF_IMG_20151115_141507_cell_98.png',\n",
       " 'C155P116ThinF_IMG_20151115_143125_cell_75.png',\n",
       " 'C185P146ThinF_IMG_20151203_110344_cell_111.png',\n",
       " 'C215ThinF_IMG_20151106_133116_cell_75.png',\n",
       " 'C49P10thinF_IMG_20150724_102843_cell_63.png',\n",
       " 'C52P13thinF_IMG_20150725_124606_cell_110.png',\n",
       " 'C143P104ThinF_IMG_20151005_230100_cell_88.png',\n",
       " 'C77P38ThinF_IMG_20150602_143650_cell_105.png',\n",
       " 'C38P3thinF_original_IMG_20150621_112227_cell_3.png',\n",
       " 'C173P134NThinF_IMG_20151130_125408_cell_161.png',\n",
       " 'C175P136NThinF_IMG_20151127_141253_cell_13.png',\n",
       " 'C33P1thinF_IMG_20150619_121102a_cell_7.png',\n",
       " 'C223ThinF_IMG_20151112_104118_cell_57.png',\n",
       " 'C55P16thinF_IMG_20150728_123237_cell_174.png',\n",
       " 'C229ThinF_IMG_20151112_144613_cell_155.png',\n",
       " 'C170P131ThinF_IMG_20151119_120150_cell_121.png',\n",
       " 'C61P22N_ThinF_IMG_20150818_112811_cell_193.png',\n",
       " 'C80P41ThinF_IMG_20150817_110834_cell_23.png',\n",
       " 'C83P44ThinF_IMG_20150817_133355_cell_175.png',\n",
       " 'C125P86ThinF_IMG_20151004_102205_cell_58.png',\n",
       " 'C33P1thinF_IMG_20150619_121229a_cell_42.png',\n",
       " 'C185P146ThinF_IMG_20151203_111121_cell_103.png',\n",
       " 'C92P53ThinF_IMG_20150821_151722_cell_57.png',\n",
       " 'C162P123ThinF_IMG_20151116_104451_cell_81.png',\n",
       " 'C119P80ThinF_IMG_20151002_122720_cell_132.png',\n",
       " 'C33P1thinF_IMG_20150619_115808a_cell_62.png',\n",
       " 'C235ThinF_IMG_20151112_165055_cell_116.png',\n",
       " 'C166P127ThinF_IMG_20151117_193235_cell_97.png',\n",
       " 'C181P142ThinF_IMG_20151127_160514_cell_157.png',\n",
       " 'C183P144NThinF_IMG_20151201_222917_cell_25.png',\n",
       " 'C139P100ThinF_IMG_20151005_183338_cell_128.png',\n",
       " 'C108P69ThinF_IMG_20150924_224909_cell_215.png',\n",
       " 'C217ThinF_IMG_20151106_141135_cell_171.png',\n",
       " 'C109P70ThinF_IMG_20150930_102812_cell_135.png',\n",
       " 'C234ThinF_IMG_20151112_162940_cell_260.png',\n",
       " 'C182P143NThinF_IMG_20151201_172257_cell_56.png',\n",
       " 'C177P138NThinF_IMG_20151201_142846_cell_40.png',\n",
       " 'C72P33_ThinF_IMG_20150815_105823_cell_40.png',\n",
       " 'C108P69ThinF_IMG_20150924_225511_cell_99.png',\n",
       " 'C180P141NThinF_IMG_20151201_165528_cell_126.png',\n",
       " 'C179P140ThinF_IMG_20151127_153453_cell_21.png',\n",
       " 'C57P18thinF_IMG_20150729_111518_cell_38.png',\n",
       " 'C206ThinF_IMG_20151029_140538_cell_195.png',\n",
       " 'C152P113ThinF_IMG_20151115_124217_cell_105.png',\n",
       " 'C84P45ThinF_IMG_20150818_102507_cell_75.png',\n",
       " 'C172P133ThinF_IMG_20151119_155019_cell_6.png',\n",
       " 'C206ThinF_IMG_20151029_140511_cell_278.png',\n",
       " 'C144P105ThinF_IMG_20151015_155149_cell_179.png',\n",
       " 'C137P98ThinF_IMG_20151005_160122_cell_52.png',\n",
       " 'C123P84ThinF_IMG_20151002_151432_cell_157.png',\n",
       " 'C144P105ThinF_IMG_20151015_163432_cell_259.png',\n",
       " 'C181P142ThinF_IMG_20151127_160514_cell_1.png',\n",
       " 'C119P80ThinF_IMG_20151002_122720_cell_82.png',\n",
       " 'C62P23N_ThinF_IMG_20150818_133307_cell_57.png',\n",
       " 'C79P40ThinF_IMG_20150817_104919_cell_88.png',\n",
       " 'C149P110ThinF_IMG_20151115_114729_cell_8.png',\n",
       " 'C202ThinF_IMG_20151015_151736_cell_124.png',\n",
       " 'C95P56ThinF_IMG_20150821_171530_cell_34.png',\n",
       " 'C231ThinF_IMG_20151112_153246_cell_46.png',\n",
       " 'C156P117ThinF_IMG_20151115_153831_cell_134.png',\n",
       " 'C128P89ThinF_IMG_20151004_130408_cell_76.png',\n",
       " 'C60P21thinF_IMG_20150803_144003_cell_86.png',\n",
       " 'C111P72ThinF_IMG_20150930_113610_cell_128.png',\n",
       " 'C5NThinF_IMG_20150609_122108_cell_29.png',\n",
       " 'C80P41ThinF_IMG_20150817_110608_cell_127.png',\n",
       " 'C6NThinF_IMG_20150609_122421_cell_17.png',\n",
       " 'C127P88ThinF_IMG_20151004_112418_cell_9.png',\n",
       " 'C73P34_ThinF_IMG_20150815_111114_cell_145.png',\n",
       " 'C107P68ThinF_IMG_20150924_222233_cell_89.png',\n",
       " 'C206ThinF_IMG_20151029_140511_cell_244.png',\n",
       " 'C104P65ThinF_IMG_20150918_172537_cell_67.png',\n",
       " 'C83P44ThinF_IMG_20150817_134820_cell_131.png',\n",
       " 'C205ThinF_IMG_20151106_151711_cell_74.png',\n",
       " 'C147P108ThinF_IMG_20151115_103432_cell_129.png',\n",
       " 'C54P15thinF_IMG_20150728_102017_cell_146.png',\n",
       " 'C152P113ThinF_IMG_20151115_124032_cell_173.png',\n",
       " 'C141P102ThinF_IMG_20151005_215348_cell_79.png',\n",
       " 'C50P11thinF_IMG_20150724_114951_cell_135.png',\n",
       " 'C118P79ThinF_IMG_20151002_105125_cell_43.png',\n",
       " 'C6NThinF_IMG_20150609_122725_cell_45.png',\n",
       " 'C88P49ThinF_IMG_20150820_153042_cell_163.png',\n",
       " 'C116P77ThinF_IMG_20150930_171635_cell_18.png',\n",
       " 'C69P30N_ThinF_IMG_20150819_140143_cell_99.png',\n",
       " 'C106P67ThinF_IMG_20150924_102826_cell_91.png',\n",
       " 'C63P24N_ThinF_IMG_20150818_143319_cell_78.png',\n",
       " 'C241NThinF_IMG_20151207_124208_cell_7.png',\n",
       " 'C139P100ThinF_IMG_20151005_182822_cell_147.png',\n",
       " 'C6NThinF_IMG_20150609_122421_cell_214.png',\n",
       " 'C77P38ThinF_IMG_20150602_142303_cell_3.png',\n",
       " 'C185P146ThinF_IMG_20151203_110448_cell_32.png',\n",
       " 'C157P118ThinF_IMG_20151115_164141_cell_147.png',\n",
       " 'C115P76ThinF_IMG_20150930_161825_cell_2.png',\n",
       " 'C53P14thinF_IMG_20150726_120600_cell_26.png',\n",
       " 'C2NThinF_IMG_20150604_114815_cell_242.png',\n",
       " 'C83P44ThinF_IMG_20150817_134820_cell_13.png',\n",
       " 'C5NThinF_IMG_20150609_122108_cell_175.png',\n",
       " 'C95P56ThinF_IMG_20150821_171603_cell_1.png',\n",
       " 'C58P19thinF_IMG_20150802_122520_cell_109.png',\n",
       " 'C169P130ThinF_IMG_20151118_173039_cell_172.png',\n",
       " 'C105P66ThinF_IMG_20150924_094944_cell_41.png',\n",
       " 'C106P67ThinF_IMG_20150924_102826_cell_85.png',\n",
       " 'C108P69ThinF_IMG_20150924_225511_cell_128.png',\n",
       " 'C39P4thinF_original_IMG_20150622_105102_cell_33.png',\n",
       " 'C53P14thinF_IMG_20150726_120600_cell_105.png',\n",
       " 'C12NThinF_IMG_20150614_124244_cell_45.png',\n",
       " 'C174P135NThinF_IMG_20151127_135435_cell_159.png',\n",
       " 'C217ThinF_IMG_20151106_141500_cell_250.png',\n",
       " 'C74P35_ThinF_IMG_20150815_120712_cell_15.png',\n",
       " 'C143P104ThinF_IMG_20151005_225454_cell_145.png',\n",
       " 'C116P77ThinF_IMG_20150930_171448_cell_53.png',\n",
       " 'C127P88ThinF_IMG_20151004_111526_cell_59.png',\n",
       " 'C71P32_ThinF_IMG_20150813_162554_cell_99.png',\n",
       " 'C51AP12thinF_IMG_20150724_155947_cell_5.png',\n",
       " 'C101P62ThinF_IMG_20150923_170246_cell_42.png',\n",
       " 'C96P57ThinF_IMG_20150824_112132_cell_74.png',\n",
       " 'C57P18thinF_IMG_20150729_110305_cell_168.png',\n",
       " 'C105P66ThinF_IMG_20150924_095633_cell_111.png',\n",
       " 'C123P84ThinF_IMG_20151002_150931_cell_162.png',\n",
       " 'C45P6ThinF_IMG_20151130_155110_cell_15.png',\n",
       " 'C136P97ThinF_IMG_20151005_141321_cell_71.png',\n",
       " 'C107P68ThinF_IMG_20150924_222535_cell_38.png',\n",
       " 'C110P71ThinF_IMG_20150930_105319_cell_37.png',\n",
       " 'C224ThinF_IMG_20151112_111955_cell_178.png',\n",
       " 'C124P85ThinF_IMG_20151002_154502_cell_101.png',\n",
       " 'C182P143NThinF_IMG_20151201_171950_cell_116.png',\n",
       " 'C177P138NThinF_IMG_20151201_142942_cell_19.png',\n",
       " 'C109P70ThinF_IMG_20150930_102716_cell_49.png',\n",
       " 'C214ThinF_IMG_20151106_114910_cell_77.png',\n",
       " 'C170P131ThinF_IMG_20151119_115918_cell_198.png',\n",
       " 'C145P106ThinF_IMG_20151016_154719_cell_129.png',\n",
       " 'C37BP2_thinF_IMG_20150620_132847a_cell_60.png',\n",
       " 'C204ThinF_IMG_20151029_112231_cell_169.png',\n",
       " 'C240ThinF_IMG_20151127_115247_cell_208.png',\n",
       " 'C5NThinF_IMG_20150609_122227_cell_56.png',\n",
       " 'C94P55ThinF_IMG_20150821_170021_cell_112.png',\n",
       " 'C114P75ThinF_IMG_20150930_150145_cell_111.png',\n",
       " 'C68P29N_ThinF_IMG_20150819_134112_cell_6.png',\n",
       " 'C118P79ThinF_IMG_20151002_105735_cell_72.png',\n",
       " 'C234ThinF_IMG_20151112_163036_cell_13.png',\n",
       " 'C82P43ThinF_IMG_20150817_123500_cell_196.png',\n",
       " 'C225ThinF_IMG_20151112_113953_cell_201.png',\n",
       " 'C55P16thinF_IMG_20150728_123237_cell_15.png',\n",
       " 'C238NThinF_IMG_20151207_115017_cell_115.png',\n",
       " 'C241NThinF_IMG_20151207_124208_cell_150.png',\n",
       " 'C145P106ThinF_IMG_20151016_155051_cell_14.png',\n",
       " 'C173P134NThinF_IMG_20151130_120046_cell_228.png',\n",
       " 'C6NThinF_IMG_20150609_122547_cell_180.png',\n",
       " 'C207ThinF_IMG_20151029_144033_cell_106.png',\n",
       " 'C175P136NThinF_IMG_20151127_141325_cell_146.png',\n",
       " 'C231ThinF_IMG_20151112_153106_cell_155.png',\n",
       " 'C131P92ThinF_IMG_20151004_151001_cell_56.png',\n",
       " 'C185P146ThinF_IMG_20151203_110933_cell_199.png',\n",
       " 'C136P97ThinF_IMG_20151005_143329_cell_85.png',\n",
       " 'C226ThinF_IMG_20151112_131408_cell_109.png',\n",
       " 'C151P112ThinF_IMG_20151115_121725_cell_72.png',\n",
       " 'C148P109ThinF_IMG_20151115_112253_cell_18.png',\n",
       " 'C84P45ThinF_IMG_20150818_101146_cell_70.png',\n",
       " 'C106P67ThinF_IMG_20150924_102826_cell_46.png',\n",
       " 'C88P49ThinF_IMG_20150820_153042_cell_46.png',\n",
       " 'C101P62ThinF_IMG_20150918_151942_cell_28.png',\n",
       " 'C240ThinF_IMG_20151127_115247_cell_234.png',\n",
       " 'C124P85ThinF_IMG_20151002_155223_cell_56.png',\n",
       " 'C119P80ThinF_IMG_20151002_124345_cell_86.png',\n",
       " 'C67P28N_ThinF_IMG_20150819_121456_cell_102.png',\n",
       " 'C5NThinF_IMG_20150609_122006_cell_136.png',\n",
       " 'C106P67ThinF_IMG_20150924_102245_cell_69.png',\n",
       " 'C167P128ReThinF_IMG_20151201_105102_cell_64.png',\n",
       " 'C112P73ThinF_IMG_20150930_131401_cell_62.png',\n",
       " 'C81P42ThinF_IMG_20150817_120524_cell_162.png',\n",
       " 'C125P86ThinF_IMG_20151004_102013_cell_36.png',\n",
       " 'C225ThinF_IMG_20151112_113953_cell_229.png',\n",
       " 'C231ThinF_IMG_20151112_153106_cell_169.png',\n",
       " 'C80P41ThinF_IMG_20150817_111121_cell_125.png',\n",
       " 'C105P66ThinF_IMG_20150924_095913_cell_91.png',\n",
       " 'C241NThinF_IMG_20151207_124608_cell_125.png',\n",
       " 'C73P34_ThinF_IMG_20150815_111501_cell_58.png',\n",
       " 'C214ThinF_IMG_20151106_131748_cell_22.png',\n",
       " 'C145P106ThinF_IMG_20151016_154719_cell_101.png',\n",
       " 'C67P28N_ThinF_IMG_20150819_132441_cell_117.png',\n",
       " 'C2NThinF_IMG_20150604_114730_cell_12.png',\n",
       " 'C132P93ThinF_IMG_20151004_152045_cell_56.png',\n",
       " 'C109P70ThinF_IMG_20150930_103645_cell_165.png',\n",
       " 'C210ThinF_IMG_20151029_162439_cell_259.png',\n",
       " 'C67P28N_ThinF_IMG_20150819_115417_cell_55.png',\n",
       " 'C180P141NThinF_IMG_20151201_163751_cell_31.png',\n",
       " 'C138P99ThinF_IMG_20151005_173241_cell_21.png',\n",
       " 'C3thin_original_IMG_20150608_163029_cell_220.png',\n",
       " 'C207ThinF_IMG_20151029_144152_cell_4.png',\n",
       " 'C87P48ThinF_IMG_20150820_141913_cell_167.png',\n",
       " 'C77P38ThinF_IMG_20150601_155642_cell_97.png',\n",
       " 'C150P111ThinF_IMG_20151115_115805_cell_56.png',\n",
       " 'C239ThinF_IMG_20151127_113223_cell_236.png',\n",
       " 'C78P39ThinF_IMG_20150606_104426_cell_104.png',\n",
       " 'C85P46ThinF_IMG_20150820_105301_cell_124.png',\n",
       " 'C80P41ThinF_IMG_20150817_111246_cell_49.png',\n",
       " 'C142P103ThinF_IMG_20151005_221115_cell_47.png',\n",
       " 'C155P116ThinF_IMG_20151115_142836_cell_198.png',\n",
       " 'C58P19thinF_IMG_20150802_122648_cell_135.png',\n",
       " 'C168P129ThinF_IMG_20151118_161940_cell_20.png',\n",
       " 'C151P112ThinF_IMG_20151115_121942_cell_23.png',\n",
       " 'C63P24N_ThinF_IMG_20150818_143757_cell_95.png',\n",
       " 'C226ThinF_IMG_20151112_131731_cell_129.png',\n",
       " 'C46P7ThinF_IMG_20151130_205756_cell_89.png',\n",
       " 'C66P27N_ThinF_IMG_20150818_164008_cell_58.png',\n",
       " 'C126P87ThinF_IMG_20151004_105844_cell_73.png',\n",
       " 'C95P56ThinF_IMG_20150821_171701_cell_65.png',\n",
       " 'C77P38ThinF_IMG_20150602_111510_cell_120.png',\n",
       " 'C241NThinF_IMG_20151207_124030_cell_83.png',\n",
       " 'C156P117ThinF_IMG_20151115_154435_cell_206.png',\n",
       " 'C141P102ThinF_IMG_20151005_214208_cell_84.png',\n",
       " 'C202ThinF_IMG_20151015_152200_cell_29.png',\n",
       " 'C64P25N_ThinF_IMG_20150818_152337_cell_132.png',\n",
       " 'C89P50ThinF_IMG_20150820_163347_cell_133.png',\n",
       " 'C62P23N_ThinF_IMG_20150818_133527_cell_9.png',\n",
       " 'C210ThinF_IMG_20151029_162834_cell_57.png',\n",
       " 'C162P123ThinF_IMG_20151116_104451_cell_122.png',\n",
       " 'C229ThinF_IMG_20151112_144613_cell_237.png',\n",
       " 'C165P126ThinF_IMG_20151117_171006_cell_84.png',\n",
       " 'C55P16thinF_IMG_20150728_121151_cell_13.png',\n",
       " 'C206ThinF_IMG_20151029_140538_cell_208.png',\n",
       " 'C225ThinF_IMG_20151112_113836_cell_200.png',\n",
       " 'C233ThinF_IMG_20151112_160129_cell_187.png',\n",
       " 'C74P35_ThinF_IMG_20150815_114401_cell_40.png',\n",
       " 'C183P144NThinF_IMG_20151201_223431_cell_13.png',\n",
       " 'C149P110ThinF_IMG_20151115_114629_cell_157.png',\n",
       " 'C121P82ThinF_IMG_20151002_133427_cell_34.png',\n",
       " 'C108P69ThinF_IMG_20150924_224038_cell_49.png',\n",
       " 'C106P67ThinF_IMG_20150924_103636_cell_163.png',\n",
       " 'C222ThinF_IMG_20151115_151015_cell_180.png',\n",
       " 'C109P70ThinF_IMG_20150930_103214_cell_124.png',\n",
       " 'C207ThinF_IMG_20151029_143711_cell_105.png',\n",
       " 'C100P61ThinF_IMG_20150918_144823_cell_139.png',\n",
       " 'C171P132ThinF_IMG_20151119_153425_cell_107.png',\n",
       " 'C207ThinF_IMG_20151029_144152_cell_127.png',\n",
       " 'C233ThinF_IMG_20151112_160059_cell_17.png',\n",
       " 'C167P128ReThinF_IMG_20151201_110011_cell_6.png',\n",
       " 'C129P90ThinF_IMG_20151004_133244_cell_54.png',\n",
       " 'C128P89ThinF_IMG_20151004_130549_cell_36.png',\n",
       " 'C221ThinF_IMG_20151106_155857_cell_36.png',\n",
       " 'C39P4thinF_original_IMG_20150622_110352_cell_37.png',\n",
       " 'C96P57ThinF_IMG_20150824_105213_cell_76.png',\n",
       " 'C222ThinF_IMG_20151115_150925_cell_71.png',\n",
       " 'C162P123ThinF_IMG_20151116_104342_cell_133.png',\n",
       " 'C47P8thinOriginalOlympusCX21_IMG_20150717_173432_cell_71.png',\n",
       " 'C116P77ThinF_IMG_20150930_171219_cell_10.png',\n",
       " 'C222ThinF_IMG_20151115_150728_cell_43.png',\n",
       " 'C209ThinF_IMG_20151029_160857_cell_152.png',\n",
       " 'C241NThinF_IMG_20151207_124115_cell_87.png',\n",
       " 'C225ThinF_IMG_20151112_113915_cell_165.png',\n",
       " 'C122P83ThinF_IMG_20151002_150207_cell_27.png',\n",
       " 'C223ThinF_IMG_20151112_103809_cell_219.png',\n",
       " 'C227ThinF_IMG_20151112_135509_cell_188.png',\n",
       " 'C225ThinF_IMG_20151112_113953_cell_64.png',\n",
       " 'C89P50ThinF_IMG_20150820_163728_cell_20.png',\n",
       " 'C141P102ThinF_IMG_20151005_214208_cell_47.png',\n",
       " 'C46P7ThinF_IMG_20151130_205558_cell_66.png',\n",
       " 'C227ThinF_IMG_20151112_135308_cell_12.png',\n",
       " 'C115P76ThinF_IMG_20150930_162038_cell_68.png',\n",
       " 'C49P10thinF_IMG_20150724_102330_cell_45.png',\n",
       " 'C128P89ThinF_IMG_20151004_131030_cell_16.png',\n",
       " 'C99P60ThinF_IMG_20150918_140900_cell_34.png',\n",
       " 'C227ThinF_IMG_20151112_135158_cell_122.png',\n",
       " 'C82P43ThinF_IMG_20150817_123652_cell_24.png',\n",
       " 'C129P90ThinF_IMG_20151004_133244_cell_68.png',\n",
       " 'C163P124ThinF_IMG_20151116_111925_cell_25.png',\n",
       " 'C179P140ThinF_IMG_20151127_153521_cell_126.png',\n",
       " 'C216ThinF_IMG_20151106_134733_cell_56.png',\n",
       " 'C137P98ThinF_IMG_20151005_161859_cell_16.png',\n",
       " 'C183P144NThinF_IMG_20151201_223357_cell_110.png',\n",
       " 'C47P8thinOriginalOlympusCX21_IMG_20150717_173554_cell_116.png',\n",
       " 'C213ThinF_IMG_20151106_112853_cell_165.png',\n",
       " 'C215ThinF_IMG_20151106_133012_cell_233.png',\n",
       " 'C73P34_ThinF_IMG_20150815_111501_cell_119.png',\n",
       " 'C154P115ThinF_IMG_20151115_141837_cell_132.png',\n",
       " 'C38P3thinF_original_IMG_20150621_112043_cell_151.png',\n",
       " 'C54P15thinF_IMG_20150728_113006_cell_23.png',\n",
       " 'C172P133ThinF_IMG_20151119_155343_cell_74.png',\n",
       " 'C206ThinF_IMG_20151029_140511_cell_126.png',\n",
       " 'C53P14thinF_IMG_20150726_114404_cell_120.png',\n",
       " 'C97P58ThinF_IMG_20150917_145555_cell_40.png',\n",
       " 'C207ThinF_IMG_20151029_143952_cell_122.png',\n",
       " 'C3thin_original_IMG_20150608_163047_cell_26.png',\n",
       " 'C1_thinF_IMG_20150604_104919_cell_123.png',\n",
       " 'C215ThinF_IMG_20151106_133247_cell_123.png',\n",
       " 'C133P94ThinF_IMG_20151004_155144_cell_23.png',\n",
       " 'C87P48ThinF_IMG_20150820_144714_cell_192.png',\n",
       " 'C121P82ThinF_IMG_20151002_132926_cell_29.png',\n",
       " 'C109P70ThinF_IMG_20150930_103113_cell_56.png',\n",
       " 'C37BP2_thinF_IMG_20150620_131423a_cell_47.png',\n",
       " 'C110P71ThinF_IMG_20150930_105729_cell_117.png',\n",
       " 'C217ThinF_IMG_20151106_142147_cell_249.png',\n",
       " 'C238NThinF_IMG_20151207_114444_cell_32.png',\n",
       " 'C188P149ThinF_IMG_20151203_135433_cell_138.png',\n",
       " 'C122P83ThinF_IMG_20151002_145415_cell_112.png',\n",
       " 'C133P94ThinF_IMG_20151004_154512_cell_63.png',\n",
       " 'C149P110ThinF_IMG_20151115_114910_cell_249.png',\n",
       " 'C79P40ThinF_IMG_20150817_103139_cell_134.png',\n",
       " 'C235ThinF_IMG_20151112_164834_cell_157.png',\n",
       " 'C33P1thinF_IMG_20150619_120804a_cell_3.png',\n",
       " 'C50P11thinF_IMG_20150724_120553_cell_48.png',\n",
       " 'C72P33_ThinF_IMG_20150815_104307_cell_154.png',\n",
       " 'C133P94ThinF_IMG_20151004_155144_cell_37.png',\n",
       " 'C118P79ThinF_IMG_20151002_110834_cell_48.png',\n",
       " 'C226ThinF_IMG_20151112_131546_cell_177.png',\n",
       " 'C78P39ThinF_IMG_20150606_103630_cell_13.png',\n",
       " 'C219ThinF_IMG_20151106_145856_cell_203.png',\n",
       " 'C75P36_ThinF_IMG_20150815_163015_cell_93.png',\n",
       " 'C102P63ThinF_IMG_20150918_163054_cell_25.png',\n",
       " 'C160P121ThinF_IMG_20151116_092925_cell_49.png',\n",
       " 'C37BP2_thinF_IMG_20150620_133238a_cell_32.png',\n",
       " 'C108P69ThinF_IMG_20150924_225004_cell_212.png',\n",
       " 'C163P124ThinF_IMG_20151116_111742_cell_276.png',\n",
       " 'C71P32_ThinF_IMG_20150813_161634_cell_128.png',\n",
       " 'C218ThinF_IMG_20151106_144337_cell_81.png',\n",
       " 'C68P29N_ThinF_IMG_20150819_134504_cell_65.png',\n",
       " 'C50P11thinF_IMG_20150724_120553_cell_60.png',\n",
       " 'C79P40ThinF_IMG_20150817_102702_cell_127.png',\n",
       " 'C139P100ThinF_IMG_20151005_182410_cell_139.png',\n",
       " 'C210ThinF_IMG_20151029_162605_cell_110.png',\n",
       " 'C101P62ThinF_IMG_20150918_151006_cell_29.png',\n",
       " 'C189P150ThinF_IMG_20151203_142224_cell_46.png',\n",
       " 'C168P129ThinF_IMG_20151118_161940_cell_110.png',\n",
       " 'C112P73ThinF_IMG_20150930_131659_cell_143.png',\n",
       " 'C79P40ThinF_IMG_20150817_102702_cell_33.png',\n",
       " 'C123P84ThinF_IMG_20151002_152144_cell_160.png',\n",
       " 'C131P92ThinF_IMG_20151004_150208_cell_66.png',\n",
       " 'C5NThinF_IMG_20150609_122227_cell_216.png',\n",
       " 'C108P69ThinF_IMG_20150924_225004_cell_57.png',\n",
       " 'C121P82ThinF_IMG_20151002_135054_cell_55.png',\n",
       " 'C93P54ThinF_IMG_20150821_162641_cell_112.png',\n",
       " 'C144P105ThinF_IMG_20151015_163142_cell_172.png',\n",
       " 'C62P23N_ThinF_IMG_20150818_133055_cell_119.png',\n",
       " 'C2NThinF_IMG_20150604_114631_cell_72.png',\n",
       " 'C114P75ThinF_IMG_20150930_150833_cell_103.png',\n",
       " 'C239ThinF_IMG_20151127_113202_cell_164.png',\n",
       " 'C75P36_ThinF_IMG_20150815_163059_cell_116.png',\n",
       " 'C65P26N_ThinF_IMG_20150818_154624_cell_169.png',\n",
       " 'C137P98ThinF_IMG_20151005_164119_cell_19.png',\n",
       " 'C33P1thinF_IMG_20150619_120742a_cell_123.png',\n",
       " 'C2NThinF_IMG_20150604_114631_cell_99.png',\n",
       " 'C47P8thin_Original_Motic_IMG_20150714_093947_cell_147.png',\n",
       " 'C223ThinF_IMG_20151112_104410_cell_156.png',\n",
       " 'C85P46ThinF_IMG_20150820_105154_cell_208.png',\n",
       " 'C176P137NThinF_IMG_20151201_121303_cell_98.png',\n",
       " 'C239ThinF_IMG_20151127_113253_cell_150.png',\n",
       " 'C76P37ThinF_IMG_20150815_172808_cell_19.png',\n",
       " 'C203ThinF_IMG_20151029_110105_cell_246.png',\n",
       " 'C73P34_ThinF_IMG_20150815_112246_cell_12.png',\n",
       " 'C204ThinF_IMG_20151029_110627_cell_280.png',\n",
       " 'C83P44ThinF_IMG_20150817_133454_cell_171.png',\n",
       " 'C56P17thinF_IMG_20150728_153328_cell_93.png',\n",
       " 'C53P14thinF_IMG_20150726_115046_cell_99.png',\n",
       " 'C235ThinF_IMG_20151112_164834_cell_194.png',\n",
       " 'C3thin_original_IMG_20150608_162835_cell_174.png',\n",
       " 'C94P55ThinF_IMG_20150821_170403_cell_188.png',\n",
       " 'C156P117ThinF_IMG_20151115_154022_cell_269.png',\n",
       " 'C233ThinF_IMG_20151112_161024_cell_208.png',\n",
       " 'C45P6ThinF_IMG_20151130_155011_cell_49.png',\n",
       " 'C210ThinF_IMG_20151029_162439_cell_91.png',\n",
       " 'C188P149ThinF_IMG_20151203_134449_cell_21.png',\n",
       " 'C42P5thin_original_IMG_20150623_135251_cell_121.png',\n",
       " 'C116P77ThinF_IMG_20150930_171739_cell_38.png',\n",
       " 'C69P30N_ThinF_IMG_20150819_140652_cell_210.png',\n",
       " 'C142P103ThinF_IMG_20151005_221931_cell_165.png',\n",
       " 'C150P111ThinF_IMG_20151115_120029_cell_137.png',\n",
       " 'C52P13thinF_IMG_20150725_125847_cell_27.png',\n",
       " 'C42P5thin_original_IMG_20150623_134919_cell_166.png',\n",
       " 'C128P89ThinF_IMG_20151004_131753_cell_99.png',\n",
       " 'C134P95ThinF_IMG_20151005_121656_cell_18.png',\n",
       " 'C119P80ThinF_IMG_20151002_124304_cell_131.png',\n",
       " 'C217ThinF_IMG_20151106_141135_cell_70.png',\n",
       " 'C92P53ThinF_IMG_20150821_150457_cell_106.png',\n",
       " 'C167P128ReThinF_IMG_20151201_105559_cell_74.png',\n",
       " 'C160P121ThinF_IMG_20151116_094128_cell_76.png',\n",
       " 'C70P31_ThinF_IMG_20150813_130849_cell_46.png',\n",
       " 'C226ThinF_IMG_20151112_131546_cell_9.png',\n",
       " 'C239ThinF_IMG_20151127_113253_cell_18.png',\n",
       " 'C224ThinF_IMG_20151112_112334_cell_23.png',\n",
       " 'C45P6ThinF_IMG_20151130_155011_cell_168.png',\n",
       " 'C61P22N_ThinF_IMG_20150818_112626_cell_147.png',\n",
       " 'C208ThinF_IMG_20151029_155436_cell_111.png',\n",
       " 'C51AP12thinF_IMG_20150724_153313_cell_39.png',\n",
       " 'C45P6ThinF_IMG_20151130_160241_cell_7.png',\n",
       " 'C49P10thinF_IMG_20150724_102330_cell_109.png',\n",
       " 'C87P48ThinF_IMG_20150820_144714_cell_179.png',\n",
       " 'C132P93ThinF_IMG_20151004_151811_cell_14.png',\n",
       " 'C101P62ThinF_IMG_20150918_151507_cell_48.png',\n",
       " 'C77P38ThinF_IMG_20150602_142303_cell_63.png',\n",
       " 'C203ThinF_IMG_20151029_105443_cell_288.png',\n",
       " 'C60P21thinF_IMG_20150804_105034_cell_50.png',\n",
       " 'C98P59ThinF_IMG_20150917_153030_cell_28.png',\n",
       " 'C42P5thin_original_IMG_20150623_134919_cell_25.png',\n",
       " 'C65P26N_ThinF_IMG_20150818_154050_cell_160.png',\n",
       " 'C160P121ThinF_IMG_20151116_093629_cell_35.png',\n",
       " 'C65P26N_ThinF_IMG_20150818_154436_cell_124.png',\n",
       " 'C68P29N_ThinF_IMG_20150819_134326_cell_5.png',\n",
       " 'C171P132ThinF_IMG_20151119_153347_cell_103.png',\n",
       " 'C71P32_ThinF_IMG_20150813_162016_cell_193.png',\n",
       " 'C220ThinF_IMG_20151106_154533_cell_219.png',\n",
       " 'C111P72ThinF_IMG_20150930_112430_cell_45.png',\n",
       " 'C134P95ThinF_IMG_20151005_121048_cell_109.png',\n",
       " 'C172P133ThinF_IMG_20151119_155307_cell_29.png',\n",
       " 'C182P143NThinF_IMG_20151201_171836_cell_109.png',\n",
       " 'C62P23N_ThinF_IMG_20150818_132811_cell_176.png',\n",
       " 'C170P131ThinF_IMG_20151119_120019_cell_149.png',\n",
       " 'C132P93ThinF_IMG_20151004_151733_cell_78.png',\n",
       " 'C167P128ReThinF_IMG_20151201_105559_cell_62.png',\n",
       " 'C148P109ThinF_IMG_20151115_112333_cell_176.png',\n",
       " 'C89P50ThinF_IMG_20150820_162813_cell_118.png',\n",
       " 'C42P5thin_original_IMG_20150623_134919_cell_19.png',\n",
       " 'C132P93ThinF_IMG_20151004_151733_cell_50.png',\n",
       " 'C96P57ThinF_IMG_20150824_111748_cell_166.png',\n",
       " 'C137P98ThinF_IMG_20151005_163712_cell_24.png',\n",
       " 'C91P52ThinF_IMG_20150821_125154_cell_59.png',\n",
       " 'C100P61ThinF_IMG_20150918_150041_cell_108.png',\n",
       " 'C228ThinF_IMG_20151112_142452_cell_195.png',\n",
       " 'C156P117ThinF_IMG_20151115_154022_cell_71.png',\n",
       " 'C65P26N_ThinF_IMG_20150818_154624_cell_180.png',\n",
       " 'C228ThinF_IMG_20151112_142452_cell_181.png',\n",
       " 'C184P145ThinF_IMG_20151203_102543_cell_87.png',\n",
       " 'C49P10thinF_IMG_20150724_103054_cell_132.png',\n",
       " 'C151P112ThinF_IMG_20151115_121843_cell_117.png',\n",
       " 'C239ThinF_IMG_20151127_113202_cell_199.png',\n",
       " 'C169P130ThinF_IMG_20151118_173039_cell_41.png',\n",
       " 'C83P44ThinF_IMG_20150817_134331_cell_39.png',\n",
       " 'C116P77ThinF_IMG_20150930_171558_cell_64.png',\n",
       " 'C230ThinF_IMG_20151112_150621_cell_132.png',\n",
       " 'C140P101ThinF_IMG_20151005_211735_cell_134.png',\n",
       " 'C159P120ThinF_IMG_20151115_191301_cell_137.png',\n",
       " 'C210ThinF_IMG_20151029_162934_cell_258.png',\n",
       " 'C224ThinF_IMG_20151112_111955_cell_218.png',\n",
       " 'C161P122ThinF_IMG_20151116_101722_cell_25.png',\n",
       " 'C209ThinF_IMG_20151029_160721_cell_192.png',\n",
       " 'C230ThinF_IMG_20151112_150753_cell_2.png',\n",
       " 'C61P22N_ThinF_IMG_20150818_112518_cell_92.png',\n",
       " 'C224ThinF_IMG_20151112_112735_cell_99.png',\n",
       " 'C187P148NThinF_IMG_20151203_152841_cell_50.png',\n",
       " 'C107P68ThinF_IMG_20150924_222630_cell_12.png',\n",
       " 'C118P79ThinF_IMG_20151002_105125_cell_135.png',\n",
       " 'C187P148NThinF_IMG_20151203_152841_cell_44.png',\n",
       " 'C203ThinF_IMG_20151029_105443_cell_249.png',\n",
       " 'C213ThinF_IMG_20151106_112422_cell_138.png',\n",
       " 'C181P142ThinF_IMG_20151127_160616_cell_94.png',\n",
       " 'C59P20thinF_IMG_20150803_111244_cell_36.png',\n",
       " 'C7NthinF_IMG_20150611_104753_cell_119.png',\n",
       " 'C76P37ThinF_IMG_20150815_165356_cell_168.png',\n",
       " 'C182P143NThinF_IMG_20151201_171950_cell_53.png',\n",
       " 'C233ThinF_IMG_20151112_161119_cell_244.png',\n",
       " 'C132P93ThinF_IMG_20151004_152353_cell_7.png',\n",
       " 'C86P47ThinF_IMG_20150820_125057_cell_169.png',\n",
       " 'C234ThinF_IMG_20151112_162843_cell_252.png',\n",
       " 'C83P44ThinF_IMG_20150817_133218_cell_129.png',\n",
       " 'C101P62ThinF_IMG_20150918_151006_cell_17.png',\n",
       " 'C175P136NThinF_IMG_20151127_141428_cell_134.png',\n",
       " 'C6NThinF_IMG_20150609_121955_cell_171.png',\n",
       " 'C131P92ThinF_IMG_20151004_145302_cell_26.png',\n",
       " 'C164P125ThinF_IMG_20151116_113954_cell_98.png',\n",
       " 'C146P107ThinF_IMG_20151018_140439_cell_232.png',\n",
       " 'C236ThinF_IMG_20151127_102516_cell_33.png',\n",
       " 'C104P65ThinF_IMG_20150918_171751_cell_109.png',\n",
       " 'C163P124ThinF_IMG_20151116_111742_cell_248.png',\n",
       " 'C170P131ThinF_IMG_20151119_120150_cell_51.png',\n",
       " 'C61P22N_ThinF_IMG_20150818_112704_cell_151.png',\n",
       " 'C213ThinF_IMG_20151106_112603_cell_52.png',\n",
       " 'C62P23N_ThinF_IMG_20150818_133055_cell_133.png',\n",
       " 'C56P17thinF_IMG_20150728_155921_cell_31.png',\n",
       " 'C75P36_ThinF_IMG_20150815_163059_cell_128.png',\n",
       " 'C152P113ThinF_IMG_20151115_124323_cell_28.png',\n",
       " 'C78P39ThinF_IMG_20150606_104426_cell_54.png',\n",
       " 'C146P107ThinF_IMG_20151018_140439_cell_226.png',\n",
       " 'C37BP2_thinF_IMG_20150620_131423a_cell_51.png',\n",
       " 'C217ThinF_IMG_20151106_141500_cell_118.png',\n",
       " 'C122P83ThinF_IMG_20151002_145415_cell_104.png',\n",
       " 'C75P36_ThinF_IMG_20150815_163147_cell_159.png',\n",
       " 'C77P38ThinF_IMG_20150602_142303_cell_114.png',\n",
       " 'C90P51ThinF_IMG_20150821_115700_cell_87.png',\n",
       " 'C67P28N_ThinF_IMG_20150819_121240_cell_85.png',\n",
       " 'C219ThinF_IMG_20151106_145927_cell_170.png',\n",
       " 'C169P130ThinF_IMG_20151118_172913_cell_197.png',\n",
       " 'C184P145ThinF_IMG_20151203_103326_cell_60.png',\n",
       " 'C172P133ThinF_IMG_20151119_155343_cell_62.png',\n",
       " 'C210ThinF_IMG_20151029_162357_cell_48.png',\n",
       " 'C178P139NThinF_IMG_20151201_153846_cell_69.png',\n",
       " 'C66P27N_ThinF_IMG_20150818_164008_cell_99.png',\n",
       " 'C86P47ThinF_IMG_20150820_123717_cell_136.png',\n",
       " 'C179P140ThinF_IMG_20151127_153350_cell_83.png',\n",
       " 'C126P87ThinF_IMG_20151004_104441_cell_35.png',\n",
       " 'C146P107ThinF_IMG_20151018_135846_cell_176.png',\n",
       " 'C188P149ThinF_IMG_20151203_134319_cell_28.png',\n",
       " 'C238NThinF_IMG_20151207_114653_cell_154.png',\n",
       " 'C106P67ThinF_IMG_20150924_103636_cell_149.png',\n",
       " 'C228ThinF_IMG_20151112_142900_cell_74.png',\n",
       " 'C123P84ThinF_IMG_20151002_151143_cell_86.png',\n",
       " 'C235ThinF_IMG_20151112_165055_cell_65.png',\n",
       " 'C219ThinF_IMG_20151106_150027_cell_2.png',\n",
       " 'C114P75ThinF_IMG_20150930_151150_cell_37.png',\n",
       " 'C61P22N_ThinF_IMG_20150818_112811_cell_230.png',\n",
       " 'C222ThinF_IMG_20151115_150925_cell_67.png',\n",
       " 'C106P67ThinF_IMG_20150924_102413_cell_24.png',\n",
       " 'C155P116ThinF_IMG_20151115_143051_cell_123.png',\n",
       " 'C153P114ThinF_IMG_20151115_135746_cell_25.png',\n",
       " 'C215ThinF_IMG_20151106_133643_cell_45.png',\n",
       " 'C224ThinF_IMG_20151112_113157_cell_66.png',\n",
       " 'C61P22N_ThinF_IMG_20150818_112811_cell_218.png',\n",
       " 'C179P140ThinF_IMG_20151127_153420_cell_127.png',\n",
       " 'C162P123ThinF_IMG_20151116_104736_cell_72.png',\n",
       " 'C71P32_ThinF_IMG_20150813_162146_cell_43.png',\n",
       " 'C12NThinF_IMG_20150614_124301_cell_44.png',\n",
       " 'C152P113ThinF_IMG_20151115_124217_cell_1.png',\n",
       " 'C84P45ThinF_IMG_20150818_102654_cell_26.png',\n",
       " 'C72P33_ThinF_IMG_20150815_105033_cell_4.png',\n",
       " 'C61P22N_ThinF_IMG_20150818_112704_cell_73.png',\n",
       " 'C108P69ThinF_IMG_20150924_223834_cell_117.png',\n",
       " 'C7NthinF_IMG_20150611_104510_cell_39.png',\n",
       " 'C215ThinF_IMG_20151106_133116_cell_8.png',\n",
       " 'C224ThinF_IMG_20151112_113157_cell_72.png',\n",
       " 'C219ThinF_IMG_20151106_145927_cell_158.png',\n",
       " 'C50P11thinF_IMG_20150724_115651_cell_72.png',\n",
       " 'C124P85ThinF_IMG_20151002_153825_cell_42.png',\n",
       " 'C212ThinF_IMG_20151106_110411_cell_129.png',\n",
       " 'C102P63ThinF_IMG_20150918_162051_cell_32.png',\n",
       " 'C102P63ThinF_IMG_20150918_162155_cell_117.png',\n",
       " 'C204ThinF_IMG_20151029_112502_cell_207.png',\n",
       " 'C130P91ThinF_IMG_20151004_141341_cell_140.png',\n",
       " 'C235ThinF_IMG_20151112_165055_cell_276.png',\n",
       " 'C87P48ThinF_IMG_20150820_144855_cell_143.png',\n",
       " 'C182P143NThinF_IMG_20151201_171836_cell_38.png',\n",
       " 'C179P140ThinF_IMG_20151127_153521_cell_24.png',\n",
       " 'C181P142ThinF_IMG_20151127_160434_cell_72.png',\n",
       " 'C223ThinF_IMG_20151112_103809_cell_61.png',\n",
       " 'C60P21thinF_IMG_20150804_113602_cell_50.png',\n",
       " 'C1_thinF_IMG_20150604_105100_cell_130.png',\n",
       " 'C138P99ThinF_IMG_20151005_171940_cell_153.png',\n",
       " 'C160P121ThinF_IMG_20151116_094509_cell_5.png',\n",
       " 'C141P102ThinF_IMG_20151005_214208_cell_92.png',\n",
       " 'C109P70ThinF_IMG_20150930_103214_cell_75.png',\n",
       " 'C129P90ThinF_IMG_20151004_133538_cell_68.png',\n",
       " 'C58P19thinF_IMG_20150802_121847_cell_38.png',\n",
       " 'C128P89ThinF_IMG_20151004_131129_cell_128.png',\n",
       " 'C231ThinF_IMG_20151112_153246_cell_134.png',\n",
       " 'C148P109ThinF_IMG_20151115_112855_cell_118.png',\n",
       " 'C87P48ThinF_IMG_20150820_141913_cell_165.png',\n",
       " 'C90P51ThinF_IMG_20150821_120044_cell_204.png',\n",
       " 'C182P143NThinF_IMG_20151201_172216_cell_32.png',\n",
       " 'C216ThinF_IMG_20151106_135337_cell_223.png',\n",
       " 'C51AP12thinF_IMG_20150724_155557_cell_55.png',\n",
       " 'C58P19thinF_IMG_20150802_122648_cell_123.png',\n",
       " 'C183P144NThinF_IMG_20151201_222119_cell_78.png',\n",
       " 'C109P70ThinF_IMG_20150930_103645_cell_167.png',\n",
       " 'C63P24N_ThinF_IMG_20150818_143757_cell_83.png',\n",
       " 'C82P43ThinF_IMG_20150817_124418_cell_56.png',\n",
       " 'C65P26N_ThinF_IMG_20150818_154050_cell_19.png',\n",
       " 'C237ThinF_IMG_20151127_104844_cell_56.png',\n",
       " 'C67P28N_ThinF_IMG_20150819_133000_cell_52.png',\n",
       " 'C140P101ThinF_IMG_20151005_205922_cell_82.png',\n",
       " 'C98P59ThinF_IMG_20150917_153311_cell_143.png',\n",
       " 'C240ThinF_IMG_20151127_115306_cell_75.png',\n",
       " 'C108P69ThinF_IMG_20150924_223834_cell_22.png',\n",
       " 'C238NThinF_IMG_20151207_114038_cell_139.png',\n",
       " 'C131P92ThinF_IMG_20151004_145224_cell_92.png',\n",
       " 'C74P35_ThinF_IMG_20150815_120957_cell_40.png',\n",
       " 'C51AP12thinF_IMG_20150724_155557_cell_9.png',\n",
       " 'C129P90ThinF_IMG_20151004_133538_cell_54.png',\n",
       " 'C186P147NThinF_IMG_20151203_150408_cell_9.png',\n",
       " 'C75P36_ThinF_IMG_20150815_163742_cell_145.png',\n",
       " 'C81P42ThinF_IMG_20150817_120524_cell_36.png',\n",
       " 'C100P61ThinF_IMG_20150918_145938_cell_83.png',\n",
       " 'C229ThinF_IMG_20151112_144613_cell_209.png',\n",
       " 'C165P126ThinF_IMG_20151117_171646_cell_84.png',\n",
       " 'C103P64ThinF_IMG_20150918_164331_cell_35.png',\n",
       " 'C226ThinF_IMG_20151112_131255_cell_212.png',\n",
       " 'C68P29N_ThinF_IMG_20150819_134112_cell_17.png',\n",
       " 'C227ThinF_IMG_20151112_135308_cell_217.png',\n",
       " 'C232ThinF_IMG_20151112_154251_cell_3.png',\n",
       " 'C70P31_ThinF_IMG_20150819_141327_cell_65.png',\n",
       " 'C87P48ThinF_IMG_20150820_144855_cell_83.png',\n",
       " 'C226ThinF_IMG_20151112_131408_cell_123.png',\n",
       " 'C166P127ThinF_IMG_20151117_195030_cell_77.png',\n",
       " 'C119P80ThinF_IMG_20151002_124345_cell_84.png',\n",
       " 'C80P41ThinF_IMG_20150817_110348_cell_66.png',\n",
       " 'C128P89ThinF_IMG_20151004_131129_cell_22.png',\n",
       " 'C147P108ThinF_IMG_20151115_101317_cell_118.png',\n",
       " 'C163P124ThinF_IMG_20151116_111147_cell_51.png',\n",
       " 'C227ThinF_IMG_20151112_135308_cell_203.png',\n",
       " 'C64P25N_ThinF_IMG_20150818_152613_cell_156.png',\n",
       " 'C109P70ThinF_IMG_20150930_102716_cell_63.png',\n",
       " 'C140P101ThinF_IMG_20151005_210207_cell_102.png',\n",
       " 'C12NThinF_IMG_20150614_124244_cell_90.png',\n",
       " 'C113P74ThinF_IMG_20150930_134751_cell_164.png',\n",
       " 'C234ThinF_IMG_20151112_163036_cell_39.png',\n",
       " 'C54P15thinF_IMG_20150728_112938_cell_222.png',\n",
       " 'C86P47ThinF_IMG_20150820_124025_cell_26.png',\n",
       " 'C153P114ThinF_IMG_20151115_135639_cell_105.png',\n",
       " ...]"
      ]
     },
     "execution_count": 86,
     "metadata": {},
     "output_type": "execute_result"
    }
   ],
   "source": [
    "os.listdir(train_path+ 'uninfected')\n"
   ]
  },
  {
   "cell_type": "code",
   "execution_count": 87,
   "metadata": {},
   "outputs": [],
   "source": [
    "uninfected_cell = train_path + 'uninfected/' + 'C230ThinF_IMG_20151112_150647_cell_1.png'\n"
   ]
  },
  {
   "cell_type": "code",
   "execution_count": 88,
   "metadata": {},
   "outputs": [],
   "source": [
    "uninfected_cell = imread(uninfected_cell)"
   ]
  },
  {
   "cell_type": "code",
   "execution_count": 89,
   "metadata": {},
   "outputs": [
    {
     "data": {
      "text/plain": [
       "<matplotlib.image.AxesImage at 0x1a56286978>"
      ]
     },
     "execution_count": 89,
     "metadata": {},
     "output_type": "execute_result"
    },
    {
     "data": {
      "image/png": "[encoded data removed]",
      "text/plain": [
       "<Figure size 432x288 with 1 Axes>"
      ]
     },
     "metadata": {
      "needs_background": "light"
     },
     "output_type": "display_data"
    }
   ],
   "source": [
    "plt.imshow(uninfected_cell)"
   ]
  },
  {
   "cell_type": "code",
   "execution_count": 90,
   "metadata": {},
   "outputs": [
    {
     "data": {
      "text/plain": [
       "12480"
      ]
     },
     "execution_count": 90,
     "metadata": {},
     "output_type": "execute_result"
    }
   ],
   "source": [
    "len(os.listdir(train_path+'parasitized'))"
   ]
  },
  {
   "cell_type": "code",
   "execution_count": 91,
   "metadata": {},
   "outputs": [
    {
     "data": {
      "text/plain": [
       "12480"
      ]
     },
     "execution_count": 91,
     "metadata": {},
     "output_type": "execute_result"
    }
   ],
   "source": [
    "len(os.listdir(train_path+'uninfected'))"
   ]
  },
  {
   "cell_type": "code",
   "execution_count": 92,
   "metadata": {},
   "outputs": [],
   "source": [
    "#average shape of all pictures \n",
    "dim1 = []\n",
    "dim2 = []\n",
    "\n",
    "for image_filename in os.listdir(test_path+'uninfected'):\n",
    "    \n",
    "    img = imread(test_path+'uninfected/'+ image_filename)\n",
    "    d1,d2,colors = img.shape\n",
    "    dim1.append(d1)\n",
    "    dim2.append(d2)"
   ]
  },
  {
   "cell_type": "code",
   "execution_count": 93,
   "metadata": {},
   "outputs": [
    {
     "data": {
      "text/plain": [
       "<seaborn.axisgrid.JointGrid at 0x1a562bc208>"
      ]
     },
     "execution_count": 93,
     "metadata": {},
     "output_type": "execute_result"
    },
    {
     "data": {
      "image/png": "[encoded data removed]",
      "text/plain": [
       "<Figure size 432x432 with 3 Axes>"
      ]
     },
     "metadata": {
      "needs_background": "light"
     },
     "output_type": "display_data"
    }
   ],
   "source": [
    "sns.jointplot(dim1,dim2)"
   ]
  },
  {
   "cell_type": "code",
   "execution_count": 94,
   "metadata": {},
   "outputs": [
    {
     "data": {
      "text/plain": [
       "130.92538461538462"
      ]
     },
     "execution_count": 94,
     "metadata": {},
     "output_type": "execute_result"
    }
   ],
   "source": [
    "#CNN cant train on images with diffrent sizes\n",
    "#we should resize images with the mean value of dim 1 and dim 2\n",
    "np.mean(dim1)"
   ]
  },
  {
   "cell_type": "code",
   "execution_count": 95,
   "metadata": {},
   "outputs": [
    {
     "data": {
      "text/plain": [
       "130.75"
      ]
     },
     "execution_count": 95,
     "metadata": {},
     "output_type": "execute_result"
    }
   ],
   "source": [
    "np.mean(dim2)"
   ]
  },
  {
   "cell_type": "code",
   "execution_count": 96,
   "metadata": {},
   "outputs": [],
   "source": [
    "image_shape = (130,130,3)"
   ]
  },
  {
   "cell_type": "code",
   "execution_count": 97,
   "metadata": {},
   "outputs": [],
   "source": [
    "#minuplate an image \n",
    "from tensorflow.keras.preprocessing.image import ImageDataGenerator"
   ]
  },
  {
   "cell_type": "code",
   "execution_count": 98,
   "metadata": {},
   "outputs": [
    {
     "data": {
      "text/plain": [
       "0.78039217"
      ]
     },
     "execution_count": 98,
     "metadata": {},
     "output_type": "execute_result"
    }
   ],
   "source": [
    "imread(para_cell).max()"
   ]
  },
  {
   "cell_type": "code",
   "execution_count": 99,
   "metadata": {},
   "outputs": [],
   "source": [
    "image_gen = ImageDataGenerator(rotation_range=20,\n",
    "                              width_shift_range=0.1,\n",
    "                              height_shift_range=0.1,\n",
    "                               rescale=0,\n",
    "                               shear_range=0.1,\n",
    "                               zoom_range=0.1,\n",
    "                               horizontal_flip=True,\n",
    "                               fill_mode='nearest'\n",
    "                              )\n",
    "\n",
    "#numbers here depend on the situation"
   ]
  },
  {
   "cell_type": "code",
   "execution_count": 100,
   "metadata": {},
   "outputs": [
    {
     "data": {
      "text/plain": [
       "<matplotlib.image.AxesImage at 0x1a56047240>"
      ]
     },
     "execution_count": 100,
     "metadata": {},
     "output_type": "execute_result"
    },
    {
     "data": {
      "image/png": "[encoded data removed]",
      "text/plain": [
       "<Figure size 432x288 with 1 Axes>"
      ]
     },
     "metadata": {
      "needs_background": "light"
     },
     "output_type": "display_data"
    }
   ],
   "source": [
    "para_img = imread(para_cell)\n",
    "plt.imshow(para_img)"
   ]
  },
  {
   "cell_type": "code",
   "execution_count": 101,
   "metadata": {},
   "outputs": [
    {
     "data": {
      "text/plain": [
       "<matplotlib.image.AxesImage at 0x1a56a23358>"
      ]
     },
     "execution_count": 101,
     "metadata": {},
     "output_type": "execute_result"
    },
    {
     "data": {
      "image/png": "[encoded data removed]",
      "text/plain": [
       "<Figure size 432x288 with 1 Axes>"
      ]
     },
     "metadata": {
      "needs_background": "light"
     },
     "output_type": "display_data"
    }
   ],
   "source": [
    "#now we apply the img_gen to the pictures\n",
    "plt.imshow(image_gen.random_transform(para_img))"
   ]
  },
  {
   "cell_type": "code",
   "execution_count": 102,
   "metadata": {},
   "outputs": [
    {
     "name": "stdout",
     "output_type": "stream",
     "text": [
      "Found 24958 images belonging to 2 classes.\n"
     ]
    },
    {
     "data": {
      "text/plain": [
       "<keras_preprocessing.image.directory_iterator.DirectoryIterator at 0x1a56831eb8>"
      ]
     },
     "execution_count": 102,
     "metadata": {},
     "output_type": "execute_result"
    }
   ],
   "source": [
    "#powerfull tool to get more data.\n",
    "image_gen.flow_from_directory(train_path)"
   ]
  },
  {
   "cell_type": "code",
   "execution_count": 103,
   "metadata": {},
   "outputs": [],
   "source": [
    "from tensorflow.keras.models import Sequential\n",
    "from tensorflow.keras.layers import Dense,Conv2D,MaxPooling2D,Dropout, Flatten"
   ]
  },
  {
   "cell_type": "code",
   "execution_count": 104,
   "metadata": {},
   "outputs": [],
   "source": [
    "model = Sequential()\n",
    "\n",
    "model.add(Conv2D(filters=32, kernel_size=(3,3),input_shape=image_shape, activation='relu',))\n",
    "model.add(MaxPooling2D(pool_size=(2, 2)))\n",
    "\n",
    "model.add(Conv2D(filters=64, kernel_size=(3,3),input_shape=image_shape, activation='relu',))\n",
    "model.add(MaxPooling2D(pool_size=(2, 2)))\n",
    "\n",
    "model.add(Conv2D(filters=64, kernel_size=(3,3),input_shape=image_shape, activation='relu',))\n",
    "model.add(MaxPooling2D(pool_size=(2, 2)))\n",
    "\n",
    "\n",
    "model.add(Flatten())\n",
    "\n",
    "\n",
    "model.add(Dense(128,activation='relu'))\n",
    "model.add(Dropout(0.5))\n",
    "\n",
    "# Dropouts help reduce overfitting by randomly turning neurons off during training.\n",
    "# Here we say randomly turn off 50% of neurons.\n",
    "\n",
    "\n",
    "# Last layer, remember its binary so we use sigmoid\n",
    "model.add(Dense(1,activation='sigmoid'))\n",
    "\n",
    "\n",
    "model.compile(loss='binary_crossentropy',\n",
    "              optimizer='adam',\n",
    "              metrics=['accuracy'])\n",
    "          \n",
    "          "
   ]
  },
  {
   "cell_type": "code",
   "execution_count": 105,
   "metadata": {},
   "outputs": [
    {
     "name": "stdout",
     "output_type": "stream",
     "text": [
      "Model: \"sequential_1\"\n",
      "_________________________________________________________________\n",
      "Layer (type)                 Output Shape              Param #   \n",
      "=================================================================\n",
      "conv2d_3 (Conv2D)            (None, 128, 128, 32)      896       \n",
      "_________________________________________________________________\n",
      "max_pooling2d_3 (MaxPooling2 (None, 64, 64, 32)        0         \n",
      "_________________________________________________________________\n",
      "conv2d_4 (Conv2D)            (None, 62, 62, 64)        18496     \n",
      "_________________________________________________________________\n",
      "max_pooling2d_4 (MaxPooling2 (None, 31, 31, 64)        0         \n",
      "_________________________________________________________________\n",
      "conv2d_5 (Conv2D)            (None, 29, 29, 64)        36928     \n",
      "_________________________________________________________________\n",
      "max_pooling2d_5 (MaxPooling2 (None, 14, 14, 64)        0         \n",
      "_________________________________________________________________\n",
      "flatten_1 (Flatten)          (None, 12544)             0         \n",
      "_________________________________________________________________\n",
      "dense_2 (Dense)              (None, 128)               1605760   \n",
      "_________________________________________________________________\n",
      "dropout_1 (Dropout)          (None, 128)               0         \n",
      "_________________________________________________________________\n",
      "dense_3 (Dense)              (None, 1)                 129       \n",
      "=================================================================\n",
      "Total params: 1,662,209\n",
      "Trainable params: 1,662,209\n",
      "Non-trainable params: 0\n",
      "_________________________________________________________________\n"
     ]
    }
   ],
   "source": [
    "model.summary()"
   ]
  },
  {
   "cell_type": "code",
   "execution_count": 106,
   "metadata": {},
   "outputs": [],
   "source": [
    "from tensorflow.keras.callbacks import EarlyStopping"
   ]
  },
  {
   "cell_type": "code",
   "execution_count": 107,
   "metadata": {},
   "outputs": [],
   "source": [
    "early_stop = EarlyStopping(monitor = 'val_loss',patience=2)"
   ]
  },
  {
   "cell_type": "code",
   "execution_count": 108,
   "metadata": {},
   "outputs": [],
   "source": [
    "batch_size=16"
   ]
  },
  {
   "cell_type": "code",
   "execution_count": 109,
   "metadata": {},
   "outputs": [
    {
     "name": "stdout",
     "output_type": "stream",
     "text": [
      "Found 24958 images belonging to 2 classes.\n"
     ]
    }
   ],
   "source": [
    "train_image_gen = image_gen.flow_from_directory(train_path,target_size=image_shape[:2],color_mode='rgb'\n",
    "                                               ,batch_size=batch_size,class_mode='binary')\n",
    "\n",
    "\n",
    "\n"
   ]
  },
  {
   "cell_type": "code",
   "execution_count": 110,
   "metadata": {},
   "outputs": [
    {
     "name": "stdout",
     "output_type": "stream",
     "text": [
      "Found 2600 images belonging to 2 classes.\n"
     ]
    }
   ],
   "source": [
    "test_image_gen = image_gen.flow_from_directory(test_path,target_size=image_shape[:2],color_mode='rgb'\n",
    "                                               ,batch_size=batch_size,class_mode='binary',shuffle=False)\n",
    "\n",
    "\n",
    "\n"
   ]
  },
  {
   "cell_type": "code",
   "execution_count": 111,
   "metadata": {},
   "outputs": [
    {
     "data": {
      "text/plain": [
       "{'parasitized': 0, 'uninfected': 1}"
      ]
     },
     "execution_count": 111,
     "metadata": {},
     "output_type": "execute_result"
    }
   ],
   "source": [
    "train_image_gen.class_indices"
   ]
  },
  {
   "cell_type": "code",
   "execution_count": 112,
   "metadata": {},
   "outputs": [
    {
     "name": "stdout",
     "output_type": "stream",
     "text": [
      "Epoch 1/20\n",
      " 301/1560 [====>.........................] - ETA: 17:40 - loss: 7.8096 - accuracy: 0.4904"
     ]
    },
    {
     "ename": "KeyboardInterrupt",
     "evalue": "",
     "output_type": "error",
     "traceback": [
      "\u001b[0;31m---------------------------------------------------------------------------\u001b[0m",
      "\u001b[0;31mKeyboardInterrupt\u001b[0m                         Traceback (most recent call last)",
      "\u001b[0;32m<ipython-input-112-bcd2493e946c>\u001b[0m in \u001b[0;36m<module>\u001b[0;34m\u001b[0m\n\u001b[1;32m      1\u001b[0m results = model.fit_generator(train_image_gen,epochs=20,\n\u001b[1;32m      2\u001b[0m                              \u001b[0mvalidation_data\u001b[0m\u001b[0;34m=\u001b[0m\u001b[0mtest_image_gen\u001b[0m\u001b[0;34m,\u001b[0m\u001b[0;34m\u001b[0m\u001b[0;34m\u001b[0m\u001b[0m\n\u001b[0;32m----> 3\u001b[0;31m                              callbacks=[early_stop])\n\u001b[0m",
      "\u001b[0;32m~/anaconda3/lib/python3.7/site-packages/tensorflow_core/python/keras/engine/training.py\u001b[0m in \u001b[0;36mfit_generator\u001b[0;34m(self, generator, steps_per_epoch, epochs, verbose, callbacks, validation_data, validation_steps, validation_freq, class_weight, max_queue_size, workers, use_multiprocessing, shuffle, initial_epoch)\u001b[0m\n\u001b[1;32m   1295\u001b[0m         \u001b[0mshuffle\u001b[0m\u001b[0;34m=\u001b[0m\u001b[0mshuffle\u001b[0m\u001b[0;34m,\u001b[0m\u001b[0;34m\u001b[0m\u001b[0;34m\u001b[0m\u001b[0m\n\u001b[1;32m   1296\u001b[0m         \u001b[0minitial_epoch\u001b[0m\u001b[0;34m=\u001b[0m\u001b[0minitial_epoch\u001b[0m\u001b[0;34m,\u001b[0m\u001b[0;34m\u001b[0m\u001b[0;34m\u001b[0m\u001b[0m\n\u001b[0;32m-> 1297\u001b[0;31m         steps_name='steps_per_epoch')\n\u001b[0m\u001b[1;32m   1298\u001b[0m \u001b[0;34m\u001b[0m\u001b[0m\n\u001b[1;32m   1299\u001b[0m   def evaluate_generator(self,\n",
      "\u001b[0;32m~/anaconda3/lib/python3.7/site-packages/tensorflow_core/python/keras/engine/training_generator.py\u001b[0m in \u001b[0;36mmodel_iteration\u001b[0;34m(model, data, steps_per_epoch, epochs, verbose, callbacks, validation_data, validation_steps, validation_freq, class_weight, max_queue_size, workers, use_multiprocessing, shuffle, initial_epoch, mode, batch_size, steps_name, **kwargs)\u001b[0m\n\u001b[1;32m    263\u001b[0m \u001b[0;34m\u001b[0m\u001b[0m\n\u001b[1;32m    264\u001b[0m       \u001b[0mis_deferred\u001b[0m \u001b[0;34m=\u001b[0m \u001b[0;32mnot\u001b[0m \u001b[0mmodel\u001b[0m\u001b[0;34m.\u001b[0m\u001b[0m_is_compiled\u001b[0m\u001b[0;34m\u001b[0m\u001b[0;34m\u001b[0m\u001b[0m\n\u001b[0;32m--> 265\u001b[0;31m       \u001b[0mbatch_outs\u001b[0m \u001b[0;34m=\u001b[0m \u001b[0mbatch_function\u001b[0m\u001b[0;34m(\u001b[0m\u001b[0;34m*\u001b[0m\u001b[0mbatch_data\u001b[0m\u001b[0;34m)\u001b[0m\u001b[0;34m\u001b[0m\u001b[0;34m\u001b[0m\u001b[0m\n\u001b[0m\u001b[1;32m    266\u001b[0m       \u001b[0;32mif\u001b[0m \u001b[0;32mnot\u001b[0m \u001b[0misinstance\u001b[0m\u001b[0;34m(\u001b[0m\u001b[0mbatch_outs\u001b[0m\u001b[0;34m,\u001b[0m \u001b[0mlist\u001b[0m\u001b[0;34m)\u001b[0m\u001b[0;34m:\u001b[0m\u001b[0;34m\u001b[0m\u001b[0;34m\u001b[0m\u001b[0m\n\u001b[1;32m    267\u001b[0m         \u001b[0mbatch_outs\u001b[0m \u001b[0;34m=\u001b[0m \u001b[0;34m[\u001b[0m\u001b[0mbatch_outs\u001b[0m\u001b[0;34m]\u001b[0m\u001b[0;34m\u001b[0m\u001b[0;34m\u001b[0m\u001b[0m\n",
      "\u001b[0;32m~/anaconda3/lib/python3.7/site-packages/tensorflow_core/python/keras/engine/training.py\u001b[0m in \u001b[0;36mtrain_on_batch\u001b[0;34m(self, x, y, sample_weight, class_weight, reset_metrics)\u001b[0m\n\u001b[1;32m    971\u001b[0m       outputs = training_v2_utils.train_on_batch(\n\u001b[1;32m    972\u001b[0m           \u001b[0mself\u001b[0m\u001b[0;34m,\u001b[0m \u001b[0mx\u001b[0m\u001b[0;34m,\u001b[0m \u001b[0my\u001b[0m\u001b[0;34m=\u001b[0m\u001b[0my\u001b[0m\u001b[0;34m,\u001b[0m \u001b[0msample_weight\u001b[0m\u001b[0;34m=\u001b[0m\u001b[0msample_weight\u001b[0m\u001b[0;34m,\u001b[0m\u001b[0;34m\u001b[0m\u001b[0;34m\u001b[0m\u001b[0m\n\u001b[0;32m--> 973\u001b[0;31m           class_weight=class_weight, reset_metrics=reset_metrics)\n\u001b[0m\u001b[1;32m    974\u001b[0m       outputs = (outputs['total_loss'] + outputs['output_losses'] +\n\u001b[1;32m    975\u001b[0m                  outputs['metrics'])\n",
      "\u001b[0;32m~/anaconda3/lib/python3.7/site-packages/tensorflow_core/python/keras/engine/training_v2_utils.py\u001b[0m in \u001b[0;36mtrain_on_batch\u001b[0;34m(model, x, y, sample_weight, class_weight, reset_metrics)\u001b[0m\n\u001b[1;32m    262\u001b[0m       \u001b[0my\u001b[0m\u001b[0;34m,\u001b[0m\u001b[0;34m\u001b[0m\u001b[0;34m\u001b[0m\u001b[0m\n\u001b[1;32m    263\u001b[0m       \u001b[0msample_weights\u001b[0m\u001b[0;34m=\u001b[0m\u001b[0msample_weights\u001b[0m\u001b[0;34m,\u001b[0m\u001b[0;34m\u001b[0m\u001b[0;34m\u001b[0m\u001b[0m\n\u001b[0;32m--> 264\u001b[0;31m       output_loss_metrics=model._output_loss_metrics)\n\u001b[0m\u001b[1;32m    265\u001b[0m \u001b[0;34m\u001b[0m\u001b[0m\n\u001b[1;32m    266\u001b[0m   \u001b[0;32mif\u001b[0m \u001b[0mreset_metrics\u001b[0m\u001b[0;34m:\u001b[0m\u001b[0;34m\u001b[0m\u001b[0;34m\u001b[0m\u001b[0m\n",
      "\u001b[0;32m~/anaconda3/lib/python3.7/site-packages/tensorflow_core/python/keras/engine/training_eager.py\u001b[0m in \u001b[0;36mtrain_on_batch\u001b[0;34m(model, inputs, targets, sample_weights, output_loss_metrics)\u001b[0m\n\u001b[1;32m    309\u001b[0m           \u001b[0msample_weights\u001b[0m\u001b[0;34m=\u001b[0m\u001b[0msample_weights\u001b[0m\u001b[0;34m,\u001b[0m\u001b[0;34m\u001b[0m\u001b[0;34m\u001b[0m\u001b[0m\n\u001b[1;32m    310\u001b[0m           \u001b[0mtraining\u001b[0m\u001b[0;34m=\u001b[0m\u001b[0;32mTrue\u001b[0m\u001b[0;34m,\u001b[0m\u001b[0;34m\u001b[0m\u001b[0;34m\u001b[0m\u001b[0m\n\u001b[0;32m--> 311\u001b[0;31m           output_loss_metrics=output_loss_metrics))\n\u001b[0m\u001b[1;32m    312\u001b[0m   \u001b[0;32mif\u001b[0m \u001b[0;32mnot\u001b[0m \u001b[0misinstance\u001b[0m\u001b[0;34m(\u001b[0m\u001b[0mouts\u001b[0m\u001b[0;34m,\u001b[0m \u001b[0mlist\u001b[0m\u001b[0;34m)\u001b[0m\u001b[0;34m:\u001b[0m\u001b[0;34m\u001b[0m\u001b[0;34m\u001b[0m\u001b[0m\n\u001b[1;32m    313\u001b[0m     \u001b[0mouts\u001b[0m \u001b[0;34m=\u001b[0m \u001b[0;34m[\u001b[0m\u001b[0mouts\u001b[0m\u001b[0;34m]\u001b[0m\u001b[0;34m\u001b[0m\u001b[0;34m\u001b[0m\u001b[0m\n",
      "\u001b[0;32m~/anaconda3/lib/python3.7/site-packages/tensorflow_core/python/keras/engine/training_eager.py\u001b[0m in \u001b[0;36m_process_single_batch\u001b[0;34m(model, inputs, targets, output_loss_metrics, sample_weights, training)\u001b[0m\n\u001b[1;32m    250\u001b[0m               \u001b[0moutput_loss_metrics\u001b[0m\u001b[0;34m=\u001b[0m\u001b[0moutput_loss_metrics\u001b[0m\u001b[0;34m,\u001b[0m\u001b[0;34m\u001b[0m\u001b[0;34m\u001b[0m\u001b[0m\n\u001b[1;32m    251\u001b[0m               \u001b[0msample_weights\u001b[0m\u001b[0;34m=\u001b[0m\u001b[0msample_weights\u001b[0m\u001b[0;34m,\u001b[0m\u001b[0;34m\u001b[0m\u001b[0;34m\u001b[0m\u001b[0m\n\u001b[0;32m--> 252\u001b[0;31m               training=training))\n\u001b[0m\u001b[1;32m    253\u001b[0m       \u001b[0;32mif\u001b[0m \u001b[0mtotal_loss\u001b[0m \u001b[0;32mis\u001b[0m \u001b[0;32mNone\u001b[0m\u001b[0;34m:\u001b[0m\u001b[0;34m\u001b[0m\u001b[0;34m\u001b[0m\u001b[0m\n\u001b[1;32m    254\u001b[0m         raise ValueError('The model cannot be run '\n",
      "\u001b[0;32m~/anaconda3/lib/python3.7/site-packages/tensorflow_core/python/keras/engine/training_eager.py\u001b[0m in \u001b[0;36m_model_loss\u001b[0;34m(model, inputs, targets, output_loss_metrics, sample_weights, training)\u001b[0m\n\u001b[1;32m    125\u001b[0m     \u001b[0minputs\u001b[0m \u001b[0;34m=\u001b[0m \u001b[0mnest\u001b[0m\u001b[0;34m.\u001b[0m\u001b[0mmap_structure\u001b[0m\u001b[0;34m(\u001b[0m\u001b[0mops\u001b[0m\u001b[0;34m.\u001b[0m\u001b[0mconvert_to_tensor\u001b[0m\u001b[0;34m,\u001b[0m \u001b[0minputs\u001b[0m\u001b[0;34m)\u001b[0m\u001b[0;34m\u001b[0m\u001b[0;34m\u001b[0m\u001b[0m\n\u001b[1;32m    126\u001b[0m \u001b[0;34m\u001b[0m\u001b[0m\n\u001b[0;32m--> 127\u001b[0;31m   \u001b[0mouts\u001b[0m \u001b[0;34m=\u001b[0m \u001b[0mmodel\u001b[0m\u001b[0;34m(\u001b[0m\u001b[0minputs\u001b[0m\u001b[0;34m,\u001b[0m \u001b[0;34m**\u001b[0m\u001b[0mkwargs\u001b[0m\u001b[0;34m)\u001b[0m\u001b[0;34m\u001b[0m\u001b[0;34m\u001b[0m\u001b[0m\n\u001b[0m\u001b[1;32m    128\u001b[0m   \u001b[0mouts\u001b[0m \u001b[0;34m=\u001b[0m \u001b[0mnest\u001b[0m\u001b[0;34m.\u001b[0m\u001b[0mflatten\u001b[0m\u001b[0;34m(\u001b[0m\u001b[0mouts\u001b[0m\u001b[0;34m)\u001b[0m\u001b[0;34m\u001b[0m\u001b[0;34m\u001b[0m\u001b[0m\n\u001b[1;32m    129\u001b[0m \u001b[0;34m\u001b[0m\u001b[0m\n",
      "\u001b[0;32m~/anaconda3/lib/python3.7/site-packages/tensorflow_core/python/keras/engine/base_layer.py\u001b[0m in \u001b[0;36m__call__\u001b[0;34m(self, inputs, *args, **kwargs)\u001b[0m\n\u001b[1;32m    889\u001b[0m           with base_layer_utils.autocast_context_manager(\n\u001b[1;32m    890\u001b[0m               self._compute_dtype):\n\u001b[0;32m--> 891\u001b[0;31m             \u001b[0moutputs\u001b[0m \u001b[0;34m=\u001b[0m \u001b[0mself\u001b[0m\u001b[0;34m.\u001b[0m\u001b[0mcall\u001b[0m\u001b[0;34m(\u001b[0m\u001b[0mcast_inputs\u001b[0m\u001b[0;34m,\u001b[0m \u001b[0;34m*\u001b[0m\u001b[0margs\u001b[0m\u001b[0;34m,\u001b[0m \u001b[0;34m**\u001b[0m\u001b[0mkwargs\u001b[0m\u001b[0;34m)\u001b[0m\u001b[0;34m\u001b[0m\u001b[0;34m\u001b[0m\u001b[0m\n\u001b[0m\u001b[1;32m    892\u001b[0m           \u001b[0mself\u001b[0m\u001b[0;34m.\u001b[0m\u001b[0m_handle_activity_regularization\u001b[0m\u001b[0;34m(\u001b[0m\u001b[0minputs\u001b[0m\u001b[0;34m,\u001b[0m \u001b[0moutputs\u001b[0m\u001b[0;34m)\u001b[0m\u001b[0;34m\u001b[0m\u001b[0;34m\u001b[0m\u001b[0m\n\u001b[1;32m    893\u001b[0m           \u001b[0mself\u001b[0m\u001b[0;34m.\u001b[0m\u001b[0m_set_mask_metadata\u001b[0m\u001b[0;34m(\u001b[0m\u001b[0minputs\u001b[0m\u001b[0;34m,\u001b[0m \u001b[0moutputs\u001b[0m\u001b[0;34m,\u001b[0m \u001b[0minput_masks\u001b[0m\u001b[0;34m)\u001b[0m\u001b[0;34m\u001b[0m\u001b[0;34m\u001b[0m\u001b[0m\n",
      "\u001b[0;32m~/anaconda3/lib/python3.7/site-packages/tensorflow_core/python/keras/engine/sequential.py\u001b[0m in \u001b[0;36mcall\u001b[0;34m(self, inputs, training, mask)\u001b[0m\n\u001b[1;32m    254\u001b[0m       \u001b[0;32mif\u001b[0m \u001b[0;32mnot\u001b[0m \u001b[0mself\u001b[0m\u001b[0;34m.\u001b[0m\u001b[0mbuilt\u001b[0m\u001b[0;34m:\u001b[0m\u001b[0;34m\u001b[0m\u001b[0;34m\u001b[0m\u001b[0m\n\u001b[1;32m    255\u001b[0m         \u001b[0mself\u001b[0m\u001b[0;34m.\u001b[0m\u001b[0m_init_graph_network\u001b[0m\u001b[0;34m(\u001b[0m\u001b[0mself\u001b[0m\u001b[0;34m.\u001b[0m\u001b[0minputs\u001b[0m\u001b[0;34m,\u001b[0m \u001b[0mself\u001b[0m\u001b[0;34m.\u001b[0m\u001b[0moutputs\u001b[0m\u001b[0;34m,\u001b[0m \u001b[0mname\u001b[0m\u001b[0;34m=\u001b[0m\u001b[0mself\u001b[0m\u001b[0;34m.\u001b[0m\u001b[0mname\u001b[0m\u001b[0;34m)\u001b[0m\u001b[0;34m\u001b[0m\u001b[0;34m\u001b[0m\u001b[0m\n\u001b[0;32m--> 256\u001b[0;31m       \u001b[0;32mreturn\u001b[0m \u001b[0msuper\u001b[0m\u001b[0;34m(\u001b[0m\u001b[0mSequential\u001b[0m\u001b[0;34m,\u001b[0m \u001b[0mself\u001b[0m\u001b[0;34m)\u001b[0m\u001b[0;34m.\u001b[0m\u001b[0mcall\u001b[0m\u001b[0;34m(\u001b[0m\u001b[0minputs\u001b[0m\u001b[0;34m,\u001b[0m \u001b[0mtraining\u001b[0m\u001b[0;34m=\u001b[0m\u001b[0mtraining\u001b[0m\u001b[0;34m,\u001b[0m \u001b[0mmask\u001b[0m\u001b[0;34m=\u001b[0m\u001b[0mmask\u001b[0m\u001b[0;34m)\u001b[0m\u001b[0;34m\u001b[0m\u001b[0;34m\u001b[0m\u001b[0m\n\u001b[0m\u001b[1;32m    257\u001b[0m \u001b[0;34m\u001b[0m\u001b[0m\n\u001b[1;32m    258\u001b[0m     \u001b[0moutputs\u001b[0m \u001b[0;34m=\u001b[0m \u001b[0minputs\u001b[0m  \u001b[0;31m# handle the corner case where self.layers is empty\u001b[0m\u001b[0;34m\u001b[0m\u001b[0;34m\u001b[0m\u001b[0m\n",
      "\u001b[0;32m~/anaconda3/lib/python3.7/site-packages/tensorflow_core/python/keras/engine/network.py\u001b[0m in \u001b[0;36mcall\u001b[0;34m(self, inputs, training, mask)\u001b[0m\n\u001b[1;32m    706\u001b[0m     return self._run_internal_graph(\n\u001b[1;32m    707\u001b[0m         \u001b[0minputs\u001b[0m\u001b[0;34m,\u001b[0m \u001b[0mtraining\u001b[0m\u001b[0;34m=\u001b[0m\u001b[0mtraining\u001b[0m\u001b[0;34m,\u001b[0m \u001b[0mmask\u001b[0m\u001b[0;34m=\u001b[0m\u001b[0mmask\u001b[0m\u001b[0;34m,\u001b[0m\u001b[0;34m\u001b[0m\u001b[0;34m\u001b[0m\u001b[0m\n\u001b[0;32m--> 708\u001b[0;31m         convert_kwargs_to_constants=base_layer_utils.call_context().saving)\n\u001b[0m\u001b[1;32m    709\u001b[0m \u001b[0;34m\u001b[0m\u001b[0m\n\u001b[1;32m    710\u001b[0m   \u001b[0;32mdef\u001b[0m \u001b[0mcompute_output_shape\u001b[0m\u001b[0;34m(\u001b[0m\u001b[0mself\u001b[0m\u001b[0;34m,\u001b[0m \u001b[0minput_shape\u001b[0m\u001b[0;34m)\u001b[0m\u001b[0;34m:\u001b[0m\u001b[0;34m\u001b[0m\u001b[0;34m\u001b[0m\u001b[0m\n",
      "\u001b[0;32m~/anaconda3/lib/python3.7/site-packages/tensorflow_core/python/keras/engine/network.py\u001b[0m in \u001b[0;36m_run_internal_graph\u001b[0;34m(self, inputs, training, mask, convert_kwargs_to_constants)\u001b[0m\n\u001b[1;32m    858\u001b[0m \u001b[0;34m\u001b[0m\u001b[0m\n\u001b[1;32m    859\u001b[0m           \u001b[0;31m# Compute outputs.\u001b[0m\u001b[0;34m\u001b[0m\u001b[0;34m\u001b[0m\u001b[0;34m\u001b[0m\u001b[0m\n\u001b[0;32m--> 860\u001b[0;31m           \u001b[0moutput_tensors\u001b[0m \u001b[0;34m=\u001b[0m \u001b[0mlayer\u001b[0m\u001b[0;34m(\u001b[0m\u001b[0mcomputed_tensors\u001b[0m\u001b[0;34m,\u001b[0m \u001b[0;34m**\u001b[0m\u001b[0mkwargs\u001b[0m\u001b[0;34m)\u001b[0m\u001b[0;34m\u001b[0m\u001b[0;34m\u001b[0m\u001b[0m\n\u001b[0m\u001b[1;32m    861\u001b[0m \u001b[0;34m\u001b[0m\u001b[0m\n\u001b[1;32m    862\u001b[0m           \u001b[0;31m# Update tensor_dict.\u001b[0m\u001b[0;34m\u001b[0m\u001b[0;34m\u001b[0m\u001b[0;34m\u001b[0m\u001b[0m\n",
      "\u001b[0;32m~/anaconda3/lib/python3.7/site-packages/tensorflow_core/python/keras/engine/base_layer.py\u001b[0m in \u001b[0;36m__call__\u001b[0;34m(self, inputs, *args, **kwargs)\u001b[0m\n\u001b[1;32m    889\u001b[0m           with base_layer_utils.autocast_context_manager(\n\u001b[1;32m    890\u001b[0m               self._compute_dtype):\n\u001b[0;32m--> 891\u001b[0;31m             \u001b[0moutputs\u001b[0m \u001b[0;34m=\u001b[0m \u001b[0mself\u001b[0m\u001b[0;34m.\u001b[0m\u001b[0mcall\u001b[0m\u001b[0;34m(\u001b[0m\u001b[0mcast_inputs\u001b[0m\u001b[0;34m,\u001b[0m \u001b[0;34m*\u001b[0m\u001b[0margs\u001b[0m\u001b[0;34m,\u001b[0m \u001b[0;34m**\u001b[0m\u001b[0mkwargs\u001b[0m\u001b[0;34m)\u001b[0m\u001b[0;34m\u001b[0m\u001b[0;34m\u001b[0m\u001b[0m\n\u001b[0m\u001b[1;32m    892\u001b[0m           \u001b[0mself\u001b[0m\u001b[0;34m.\u001b[0m\u001b[0m_handle_activity_regularization\u001b[0m\u001b[0;34m(\u001b[0m\u001b[0minputs\u001b[0m\u001b[0;34m,\u001b[0m \u001b[0moutputs\u001b[0m\u001b[0;34m)\u001b[0m\u001b[0;34m\u001b[0m\u001b[0;34m\u001b[0m\u001b[0m\n\u001b[1;32m    893\u001b[0m           \u001b[0mself\u001b[0m\u001b[0;34m.\u001b[0m\u001b[0m_set_mask_metadata\u001b[0m\u001b[0;34m(\u001b[0m\u001b[0minputs\u001b[0m\u001b[0;34m,\u001b[0m \u001b[0moutputs\u001b[0m\u001b[0;34m,\u001b[0m \u001b[0minput_masks\u001b[0m\u001b[0;34m)\u001b[0m\u001b[0;34m\u001b[0m\u001b[0;34m\u001b[0m\u001b[0m\n",
      "\u001b[0;32m~/anaconda3/lib/python3.7/site-packages/tensorflow_core/python/keras/layers/core.py\u001b[0m in \u001b[0;36mcall\u001b[0;34m(self, inputs)\u001b[0m\n\u001b[1;32m   1054\u001b[0m         \u001b[0moutputs\u001b[0m \u001b[0;34m=\u001b[0m \u001b[0msparse_ops\u001b[0m\u001b[0;34m.\u001b[0m\u001b[0msparse_tensor_dense_matmul\u001b[0m\u001b[0;34m(\u001b[0m\u001b[0minputs\u001b[0m\u001b[0;34m,\u001b[0m \u001b[0mself\u001b[0m\u001b[0;34m.\u001b[0m\u001b[0mkernel\u001b[0m\u001b[0;34m)\u001b[0m\u001b[0;34m\u001b[0m\u001b[0;34m\u001b[0m\u001b[0m\n\u001b[1;32m   1055\u001b[0m       \u001b[0;32melse\u001b[0m\u001b[0;34m:\u001b[0m\u001b[0;34m\u001b[0m\u001b[0;34m\u001b[0m\u001b[0m\n\u001b[0;32m-> 1056\u001b[0;31m         \u001b[0moutputs\u001b[0m \u001b[0;34m=\u001b[0m \u001b[0mgen_math_ops\u001b[0m\u001b[0;34m.\u001b[0m\u001b[0mmat_mul\u001b[0m\u001b[0;34m(\u001b[0m\u001b[0minputs\u001b[0m\u001b[0;34m,\u001b[0m \u001b[0mself\u001b[0m\u001b[0;34m.\u001b[0m\u001b[0mkernel\u001b[0m\u001b[0;34m)\u001b[0m\u001b[0;34m\u001b[0m\u001b[0;34m\u001b[0m\u001b[0m\n\u001b[0m\u001b[1;32m   1057\u001b[0m     \u001b[0;32mif\u001b[0m \u001b[0mself\u001b[0m\u001b[0;34m.\u001b[0m\u001b[0muse_bias\u001b[0m\u001b[0;34m:\u001b[0m\u001b[0;34m\u001b[0m\u001b[0;34m\u001b[0m\u001b[0m\n\u001b[1;32m   1058\u001b[0m       \u001b[0moutputs\u001b[0m \u001b[0;34m=\u001b[0m \u001b[0mnn\u001b[0m\u001b[0;34m.\u001b[0m\u001b[0mbias_add\u001b[0m\u001b[0;34m(\u001b[0m\u001b[0moutputs\u001b[0m\u001b[0;34m,\u001b[0m \u001b[0mself\u001b[0m\u001b[0;34m.\u001b[0m\u001b[0mbias\u001b[0m\u001b[0;34m)\u001b[0m\u001b[0;34m\u001b[0m\u001b[0;34m\u001b[0m\u001b[0m\n",
      "\u001b[0;32m~/anaconda3/lib/python3.7/site-packages/tensorflow_core/python/ops/gen_math_ops.py\u001b[0m in \u001b[0;36mmat_mul\u001b[0;34m(a, b, transpose_a, transpose_b, name)\u001b[0m\n\u001b[1;32m   6110\u001b[0m         \u001b[0m_ctx\u001b[0m\u001b[0;34m.\u001b[0m\u001b[0m_context_handle\u001b[0m\u001b[0;34m,\u001b[0m \u001b[0m_ctx\u001b[0m\u001b[0;34m.\u001b[0m\u001b[0m_thread_local_data\u001b[0m\u001b[0;34m.\u001b[0m\u001b[0mdevice_name\u001b[0m\u001b[0;34m,\u001b[0m \u001b[0;34m\"MatMul\"\u001b[0m\u001b[0;34m,\u001b[0m\u001b[0;34m\u001b[0m\u001b[0;34m\u001b[0m\u001b[0m\n\u001b[1;32m   6111\u001b[0m         \u001b[0mname\u001b[0m\u001b[0;34m,\u001b[0m \u001b[0m_ctx\u001b[0m\u001b[0;34m.\u001b[0m\u001b[0m_post_execution_callbacks\u001b[0m\u001b[0;34m,\u001b[0m \u001b[0ma\u001b[0m\u001b[0;34m,\u001b[0m \u001b[0mb\u001b[0m\u001b[0;34m,\u001b[0m \u001b[0;34m\"transpose_a\"\u001b[0m\u001b[0;34m,\u001b[0m\u001b[0;34m\u001b[0m\u001b[0;34m\u001b[0m\u001b[0m\n\u001b[0;32m-> 6112\u001b[0;31m         transpose_a, \"transpose_b\", transpose_b)\n\u001b[0m\u001b[1;32m   6113\u001b[0m       \u001b[0;32mreturn\u001b[0m \u001b[0m_result\u001b[0m\u001b[0;34m\u001b[0m\u001b[0;34m\u001b[0m\u001b[0m\n\u001b[1;32m   6114\u001b[0m     \u001b[0;32mexcept\u001b[0m \u001b[0m_core\u001b[0m\u001b[0;34m.\u001b[0m\u001b[0m_FallbackException\u001b[0m\u001b[0;34m:\u001b[0m\u001b[0;34m\u001b[0m\u001b[0;34m\u001b[0m\u001b[0m\n",
      "\u001b[0;31mKeyboardInterrupt\u001b[0m: "
     ]
    }
   ],
   "source": [
    "results = model.fit_generator(train_image_gen,epochs=20,\n",
    "                             validation_data=test_image_gen,\n",
    "                             callbacks=[early_stop])"
   ]
  },
  {
   "cell_type": "code",
   "execution_count": 43,
   "metadata": {},
   "outputs": [],
   "source": [
    "from tensorflow.keras.models import load_model"
   ]
  },
  {
   "cell_type": "code",
   "execution_count": 44,
   "metadata": {},
   "outputs": [],
   "source": [
    "model = load_model('malaria_detector.h5')"
   ]
  },
  {
   "cell_type": "code",
   "execution_count": 45,
   "metadata": {},
   "outputs": [
    {
     "name": "stdout",
     "output_type": "stream",
     "text": [
      "Model: \"sequential\"\n",
      "_________________________________________________________________\n",
      "Layer (type)                 Output Shape              Param #   \n",
      "=================================================================\n",
      "conv2d (Conv2D)              (None, 128, 128, 32)      896       \n",
      "_________________________________________________________________\n",
      "max_pooling2d (MaxPooling2D) (None, 64, 64, 32)        0         \n",
      "_________________________________________________________________\n",
      "conv2d_1 (Conv2D)            (None, 62, 62, 64)        18496     \n",
      "_________________________________________________________________\n",
      "max_pooling2d_1 (MaxPooling2 (None, 31, 31, 64)        0         \n",
      "_________________________________________________________________\n",
      "conv2d_2 (Conv2D)            (None, 29, 29, 64)        36928     \n",
      "_________________________________________________________________\n",
      "max_pooling2d_2 (MaxPooling2 (None, 14, 14, 64)        0         \n",
      "_________________________________________________________________\n",
      "flatten (Flatten)            (None, 12544)             0         \n",
      "_________________________________________________________________\n",
      "dense (Dense)                (None, 128)               1605760   \n",
      "_________________________________________________________________\n",
      "activation (Activation)      (None, 128)               0         \n",
      "_________________________________________________________________\n",
      "dropout (Dropout)            (None, 128)               0         \n",
      "_________________________________________________________________\n",
      "dense_1 (Dense)              (None, 1)                 129       \n",
      "_________________________________________________________________\n",
      "activation_1 (Activation)    (None, 1)                 0         \n",
      "=================================================================\n",
      "Total params: 1,662,209\n",
      "Trainable params: 1,662,209\n",
      "Non-trainable params: 0\n",
      "_________________________________________________________________\n"
     ]
    }
   ],
   "source": [
    "model.summary()"
   ]
  },
  {
   "cell_type": "code",
   "execution_count": 46,
   "metadata": {},
   "outputs": [],
   "source": [
    "#model.history.history"
   ]
  },
  {
   "cell_type": "code",
   "execution_count": 47,
   "metadata": {},
   "outputs": [
    {
     "data": {
      "text/plain": [
       "[1.9502192939178655, 0.87153846]"
      ]
     },
     "execution_count": 47,
     "metadata": {},
     "output_type": "execute_result"
    }
   ],
   "source": [
    "#you can save the history of the training \n",
    "model.evaluate_generator(test_image_gen)"
   ]
  },
  {
   "cell_type": "code",
   "execution_count": 48,
   "metadata": {},
   "outputs": [
    {
     "data": {
      "text/plain": [
       "['loss', 'accuracy']"
      ]
     },
     "execution_count": 48,
     "metadata": {},
     "output_type": "execute_result"
    }
   ],
   "source": [
    "model.metrics_names"
   ]
  },
  {
   "cell_type": "code",
   "execution_count": 49,
   "metadata": {},
   "outputs": [],
   "source": [
    "pred = model.predict_generator(test_image_gen)"
   ]
  },
  {
   "cell_type": "code",
   "execution_count": 50,
   "metadata": {},
   "outputs": [
    {
     "data": {
      "text/plain": [
       "array([[0.],\n",
       "       [0.],\n",
       "       [0.],\n",
       "       ...,\n",
       "       [1.],\n",
       "       [1.],\n",
       "       [0.]], dtype=float32)"
      ]
     },
     "execution_count": 50,
     "metadata": {},
     "output_type": "execute_result"
    }
   ],
   "source": [
    "pred"
   ]
  },
  {
   "cell_type": "code",
   "execution_count": 51,
   "metadata": {},
   "outputs": [],
   "source": [
    "predictions = pred > 0.5\n",
    "#make adjustments here \n",
    "#alert the docoor when its 80 percenate sure for exmaple\n",
    "#0.8 80% sure that this image has 80% of having malaria \n",
    "#chnage threshold for docotor "
   ]
  },
  {
   "cell_type": "code",
   "execution_count": 52,
   "metadata": {},
   "outputs": [
    {
     "data": {
      "text/plain": [
       "2600"
      ]
     },
     "execution_count": 52,
     "metadata": {},
     "output_type": "execute_result"
    }
   ],
   "source": [
    "len(pred)"
   ]
  },
  {
   "cell_type": "code",
   "execution_count": 53,
   "metadata": {},
   "outputs": [],
   "source": [
    "from sklearn.metrics import classification_report,confusion_matrix"
   ]
  },
  {
   "cell_type": "code",
   "execution_count": 54,
   "metadata": {},
   "outputs": [
    {
     "data": {
      "text/plain": [
       "array([0, 0, 0, ..., 1, 1, 1], dtype=int32)"
      ]
     },
     "execution_count": 54,
     "metadata": {},
     "output_type": "execute_result"
    }
   ],
   "source": [
    "test_image_gen.classes "
   ]
  },
  {
   "cell_type": "code",
   "execution_count": 55,
   "metadata": {},
   "outputs": [
    {
     "name": "stdout",
     "output_type": "stream",
     "text": [
      "              precision    recall  f1-score   support\n",
      "\n",
      "           0       0.80      0.98      0.88      1300\n",
      "           1       0.97      0.76      0.85      1300\n",
      "\n",
      "    accuracy                           0.87      2600\n",
      "   macro avg       0.89      0.87      0.87      2600\n",
      "weighted avg       0.89      0.87      0.87      2600\n",
      "\n"
     ]
    }
   ],
   "source": [
    "print (classification_report(test_image_gen.classes,predictions))"
   ]
  },
  {
   "cell_type": "code",
   "execution_count": 56,
   "metadata": {},
   "outputs": [
    {
     "data": {
      "text/plain": [
       "array([[1273,   27],\n",
       "       [ 310,  990]])"
      ]
     },
     "execution_count": 56,
     "metadata": {},
     "output_type": "execute_result"
    }
   ],
   "source": [
    "confusion_matrix(test_image_gen.classes,predictions)"
   ]
  },
  {
   "cell_type": "code",
   "execution_count": 57,
   "metadata": {},
   "outputs": [],
   "source": [
    "from tensorflow.keras.preprocessing import image "
   ]
  },
  {
   "cell_type": "code",
   "execution_count": 58,
   "metadata": {},
   "outputs": [],
   "source": [
    "my_image =image.load_img(para_cell,target_size=image_shape)"
   ]
  },
  {
   "cell_type": "code",
   "execution_count": 59,
   "metadata": {},
   "outputs": [
    {
     "data": {
      "image/png": "[encoded data removed]",
      "text/plain": [
       "<PIL.Image.Image image mode=RGB size=130x130 at 0x1A55897B00>"
      ]
     },
     "execution_count": 59,
     "metadata": {},
     "output_type": "execute_result"
    }
   ],
   "source": [
    "my_image"
   ]
  },
  {
   "cell_type": "code",
   "execution_count": 60,
   "metadata": {},
   "outputs": [
    {
     "name": "stdout",
     "output_type": "stream",
     "text": [
      "Model: \"sequential\"\n",
      "_________________________________________________________________\n",
      "Layer (type)                 Output Shape              Param #   \n",
      "=================================================================\n",
      "conv2d (Conv2D)              (None, 128, 128, 32)      896       \n",
      "_________________________________________________________________\n",
      "max_pooling2d (MaxPooling2D) (None, 64, 64, 32)        0         \n",
      "_________________________________________________________________\n",
      "conv2d_1 (Conv2D)            (None, 62, 62, 64)        18496     \n",
      "_________________________________________________________________\n",
      "max_pooling2d_1 (MaxPooling2 (None, 31, 31, 64)        0         \n",
      "_________________________________________________________________\n",
      "conv2d_2 (Conv2D)            (None, 29, 29, 64)        36928     \n",
      "_________________________________________________________________\n",
      "max_pooling2d_2 (MaxPooling2 (None, 14, 14, 64)        0         \n",
      "_________________________________________________________________\n",
      "flatten (Flatten)            (None, 12544)             0         \n",
      "_________________________________________________________________\n",
      "dense (Dense)                (None, 128)               1605760   \n",
      "_________________________________________________________________\n",
      "activation (Activation)      (None, 128)               0         \n",
      "_________________________________________________________________\n",
      "dropout (Dropout)            (None, 128)               0         \n",
      "_________________________________________________________________\n",
      "dense_1 (Dense)              (None, 1)                 129       \n",
      "_________________________________________________________________\n",
      "activation_1 (Activation)    (None, 1)                 0         \n",
      "=================================================================\n",
      "Total params: 1,662,209\n",
      "Trainable params: 1,662,209\n",
      "Non-trainable params: 0\n",
      "_________________________________________________________________\n"
     ]
    }
   ],
   "source": [
    "model.summary()"
   ]
  },
  {
   "cell_type": "code",
   "execution_count": 61,
   "metadata": {},
   "outputs": [],
   "source": [
    "my_img_arr = image.img_to_array(my_image)"
   ]
  },
  {
   "cell_type": "code",
   "execution_count": 62,
   "metadata": {},
   "outputs": [
    {
     "data": {
      "text/plain": [
       "(130, 130, 3)"
      ]
     },
     "execution_count": 62,
     "metadata": {},
     "output_type": "execute_result"
    }
   ],
   "source": [
    "my_img_arr.shape"
   ]
  },
  {
   "cell_type": "code",
   "execution_count": 63,
   "metadata": {},
   "outputs": [],
   "source": [
    "#resize this \n",
    "my_img_arr = np.expand_dims(my_img_arr ,axis=0)"
   ]
  },
  {
   "cell_type": "code",
   "execution_count": 64,
   "metadata": {},
   "outputs": [
    {
     "data": {
      "text/plain": [
       "(1, 130, 130, 3)"
      ]
     },
     "execution_count": 64,
     "metadata": {},
     "output_type": "execute_result"
    }
   ],
   "source": [
    "my_img_arr.shape"
   ]
  },
  {
   "cell_type": "code",
   "execution_count": 65,
   "metadata": {},
   "outputs": [
    {
     "data": {
      "text/plain": [
       "array([[0.]], dtype=float32)"
      ]
     },
     "execution_count": 65,
     "metadata": {},
     "output_type": "execute_result"
    }
   ],
   "source": [
    "model.predict(my_img_arr)"
   ]
  },
  {
   "cell_type": "code",
   "execution_count": null,
   "metadata": {},
   "outputs": [],
   "source": []
  },
  {
   "cell_type": "code",
   "execution_count": null,
   "metadata": {},
   "outputs": [],
   "source": [
    "\n"
   ]
  },
  {
   "cell_type": "code",
   "execution_count": null,
   "metadata": {},
   "outputs": [],
   "source": [
    "\n",
    "        \n",
    "    \n",
    "\n",
    "    "
   ]
  },
  {
   "cell_type": "code",
   "execution_count": null,
   "metadata": {},
   "outputs": [],
   "source": []
  },
  {
   "cell_type": "code",
   "execution_count": null,
   "metadata": {},
   "outputs": [],
   "source": []
  }
 ],
 "metadata": {
  "kernelspec": {
   "display_name": "Python 3",
   "language": "python",
   "name": "python3"
  },
  "language_info": {
   "codemirror_mode": {
    "name": "ipython",
    "version": 3
   },
   "file_extension": ".py",
   "mimetype": "text/x-python",
   "name": "python",
   "nbconvert_exporter": "python",
   "pygments_lexer": "ipython3",
   "version": "3.7.3"
  }
 },
 "nbformat": 4,
 "nbformat_minor": 2
}
